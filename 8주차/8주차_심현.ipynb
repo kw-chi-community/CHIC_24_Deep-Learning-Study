{
 "cells": [
  {
   "cell_type": "code",
   "execution_count": 1,
   "metadata": {},
   "outputs": [
    {
     "name": "stdout",
     "output_type": "stream",
     "text": [
      "['T-shirt/top', 'Trouser', 'Pullover', 'Dress', 'Coat', 'Sandal', 'Shirt', 'Sneaker', 'Bag', 'Ankle boot']\n",
      "{'T-shirt/top': 0, 'Trouser': 1, 'Pullover': 2, 'Dress': 3, 'Coat': 4, 'Sandal': 5, 'Shirt': 6, 'Sneaker': 7, 'Bag': 8, 'Ankle boot': 9}\n"
     ]
    },
    {
     "name": "stderr",
     "output_type": "stream",
     "text": [
      "c:\\Users\\user\\anaconda3\\envs\\testing_torch\\lib\\site-packages\\torchvision\\datasets\\mnist.py:66: UserWarning: train_labels has been renamed targets\n",
      "  warnings.warn(\"train_labels has been renamed targets\")\n"
     ]
    },
    {
     "name": "stdout",
     "output_type": "stream",
     "text": [
      "Training Data Size: 10000\n",
      "Testing Data Size: 1000\n"
     ]
    }
   ],
   "source": [
    "from itertools import chain\n",
    "from collections import defaultdict\n",
    "from torch.utils.data import Subset\n",
    "from torchvision import datasets\n",
    "\n",
    "def subset_sampler(dataset, classes, max_len):\n",
    "    target_idx = defaultdict(list)\n",
    "    \n",
    "    for idx, label in enumerate(dataset.train_labels):\n",
    "        target_idx[int(label)].append(idx)\n",
    "\n",
    "    indices = list(chain.from_iterable(\n",
    "        [target_idx[idx][:max_len] for idx in range(len(classes))]\n",
    "    ))\n",
    "\n",
    "    return Subset(dataset, indices)\n",
    "\n",
    "train_dataset = datasets.FashionMNIST(root = \"datasets\", download = True, train = True)\n",
    "test_dataset = datasets.FashionMNIST(root = \"datasets\", download = True, train = True)\n",
    "\n",
    "classes = train_dataset.classes\n",
    "class_to_idx = train_dataset.class_to_idx\n",
    "\n",
    "print(classes)\n",
    "print(class_to_idx)\n",
    "\n",
    "subset_train_dataset = subset_sampler(dataset = train_dataset, classes = train_dataset.classes, max_len = 1000)\n",
    "subset_test_dataset = subset_sampler(dataset = test_dataset, classes = test_dataset.classes, max_len = 100)\n",
    "\n",
    "print(f\"Training Data Size: {len(subset_train_dataset)}\")\n",
    "print(f\"Testing Data Size: {len(subset_test_dataset)}\")"
   ]
  },
  {
   "cell_type": "code",
   "execution_count": 2,
   "metadata": {},
   "outputs": [
    {
     "name": "stderr",
     "output_type": "stream",
     "text": [
      "c:\\Users\\user\\anaconda3\\envs\\testing_torch\\lib\\site-packages\\tqdm\\auto.py:21: TqdmWarning: IProgress not found. Please update jupyter and ipywidgets. See https://ipywidgets.readthedocs.io/en/stable/user_install.html\n",
      "  from .autonotebook import tqdm as notebook_tqdm\n",
      "Fast image processor class <class 'transformers.models.vit.image_processing_vit_fast.ViTImageProcessorFast'> is available for this model. Using slow image processor class. To use the fast image processor class set `use_fast=True`.\n"
     ]
    },
    {
     "name": "stdout",
     "output_type": "stream",
     "text": [
      "size: {'height': 224, 'width': 224}\n",
      "mean: [0.5, 0.5, 0.5]\n",
      "std: [0.5, 0.5, 0.5]\n"
     ]
    }
   ],
   "source": [
    "import torch\n",
    "from torchvision import transforms\n",
    "from transformers import AutoImageProcessor\n",
    "\n",
    "image_processor = AutoImageProcessor.from_pretrained(pretrained_model_name_or_path = \"google/vit-base-patch16-224-in21k\")\n",
    "\n",
    "transform = transforms.Compose([\n",
    "    transforms.ToTensor(),\n",
    "    transforms.Resize(size = (image_processor.size[\"height\"], image_processor.size[\"width\"])),\n",
    "    transforms.Lambda(lambda x: torch.cat([x, x, x], 0)),\n",
    "    transforms.Normalize(mean = image_processor.image_mean, std = image_processor.image_std)\n",
    "])\n",
    "\n",
    "print(f\"size: {image_processor.size}\")\n",
    "print(f\"mean: {image_processor.image_mean}\")\n",
    "print(f\"std: {image_processor.image_std}\")"
   ]
  },
  {
   "cell_type": "code",
   "execution_count": 3,
   "metadata": {},
   "outputs": [
    {
     "name": "stdout",
     "output_type": "stream",
     "text": [
      "pixel_values: torch.Size([32, 3, 224, 224])\n",
      "labels: torch.Size([32])\n"
     ]
    }
   ],
   "source": [
    "from torch.utils.data import DataLoader\n",
    "\n",
    "def collator(data, transform):\n",
    "    images, labels = zip(*data)\n",
    "    pixel_values = torch.stack([transform(image) for image in images])\n",
    "    labels = torch.tensor([label for label in labels])\n",
    "\n",
    "    return {\"pixel_values\": pixel_values, \"labels\": labels}\n",
    "\n",
    "train_dataloader = DataLoader(subset_train_dataset, batch_size = 32, shuffle = True, collate_fn = lambda x: collator(x, transform), drop_last = True)\n",
    "valid_dataloader = DataLoader(subset_test_dataset, batch_size = 4, shuffle = True, collate_fn = lambda x: collator(x, transform), drop_last = True)\n",
    "\n",
    "batch = next(iter(train_dataloader))\n",
    "\n",
    "for key, value in batch.items():\n",
    "    print(f\"{key}: {value.shape}\")"
   ]
  },
  {
   "cell_type": "code",
   "execution_count": 4,
   "metadata": {},
   "outputs": [
    {
     "name": "stderr",
     "output_type": "stream",
     "text": [
      "Some weights of ViTForImageClassification were not initialized from the model checkpoint at google/vit-base-patch16-224-in21k and are newly initialized: ['classifier.bias', 'classifier.weight']\n",
      "You should probably TRAIN this model on a down-stream task to be able to use it for predictions and inference.\n"
     ]
    },
    {
     "name": "stdout",
     "output_type": "stream",
     "text": [
      "Linear(in_features=768, out_features=10, bias=True)\n"
     ]
    }
   ],
   "source": [
    "from transformers import ViTForImageClassification\n",
    "\n",
    "model = ViTForImageClassification.from_pretrained(\n",
    "    pretrained_model_name_or_path = \"google/vit-base-patch16-224-in21k\",\n",
    "    num_labels = len(classes),\n",
    "    id2label = {idx: label for label, idx in class_to_idx.items()},\n",
    "    label2id = class_to_idx,\n",
    "    ignore_mismatched_sizes = True\n",
    ")\n",
    "\n",
    "print(model.classifier)"
   ]
  },
  {
   "cell_type": "code",
   "execution_count": 5,
   "metadata": {},
   "outputs": [
    {
     "name": "stdout",
     "output_type": "stream",
     "text": [
      "ViTEmbeddings(\n",
      "  (patch_embeddings): ViTPatchEmbeddings(\n",
      "    (projection): Conv2d(3, 768, kernel_size=(16, 16), stride=(16, 16))\n",
      "  )\n",
      "  (dropout): Dropout(p=0.0, inplace=False)\n",
      ")\n",
      "image shape: torch.Size([32, 3, 224, 224])\n",
      "patch embeddings shape:  torch.Size([32, 196, 768])\n"
     ]
    }
   ],
   "source": [
    "print(model.vit.embeddings)\n",
    "\n",
    "batch = next(iter(train_dataloader))\n",
    "print(\"image shape:\", batch[\"pixel_values\"].shape)\n",
    "print(\"patch embeddings shape: \", model.vit.embeddings.patch_embeddings(batch[\"pixel_values\"]).shape)"
   ]
  },
  {
   "cell_type": "code",
   "execution_count": 39,
   "metadata": {},
   "outputs": [
    {
     "name": "stderr",
     "output_type": "stream",
     "text": [
      "c:\\Users\\user\\anaconda3\\envs\\testing_torch\\lib\\site-packages\\transformers\\training_args.py:1525: FutureWarning: `evaluation_strategy` is deprecated and will be removed in version 4.46 of 🤗 Transformers. Use `eval_strategy` instead\n",
      "  warnings.warn(\n"
     ]
    }
   ],
   "source": [
    "from transformers import TrainingArguments\n",
    "\n",
    "args = TrainingArguments(\n",
    "    output_dir = \"models/ViT-FashionMNIST\",\n",
    "    save_strategy = \"epoch\",\n",
    "    evaluation_strategy = \"epoch\",\n",
    "    learning_rate = 1e-5,\n",
    "    per_device_train_batch_size = 16,\n",
    "    per_device_eval_batch_size = 16,\n",
    "    num_train_epochs = 3,\n",
    "    weight_decay = 0.001,\n",
    "    load_best_model_at_end = True,\n",
    "    metric_for_best_model = \"f1\",\n",
    "    logging_dir = \"logs\",\n",
    "    logging_steps = 125,\n",
    "    remove_unused_columns = False,\n",
    "    seed = 7\n",
    ")"
   ]
  },
  {
   "cell_type": "code",
   "execution_count": 40,
   "metadata": {},
   "outputs": [],
   "source": [
    "import evaluate\n",
    "import numpy as np\n",
    "\n",
    "def compute_metrics(eval_pred):\n",
    "    metirc = evaluate.load(\"f1\")\n",
    "    predictions, labels = eval_pred\n",
    "    predictions = np.argmax(predictions, axis = 1)\n",
    "    macro_f1 = metirc.compute(predictions = predictions, references = labels, average = \"macro\")\n",
    "\n",
    "    return macro_f1"
   ]
  },
  {
   "cell_type": "code",
   "execution_count": 8,
   "metadata": {},
   "outputs": [
    {
     "name": "stderr",
     "output_type": "stream",
     "text": [
      "c:\\Users\\user\\anaconda3\\envs\\testing_torch\\lib\\site-packages\\torchvision\\datasets\\mnist.py:66: UserWarning: train_labels has been renamed targets\n",
      "  warnings.warn(\"train_labels has been renamed targets\")\n",
      "Fast image processor class <class 'transformers.models.vit.image_processing_vit_fast.ViTImageProcessorFast'> is available for this model. Using slow image processor class. To use the fast image processor class set `use_fast=True`.\n",
      "c:\\Users\\user\\anaconda3\\envs\\testing_torch\\lib\\site-packages\\transformers\\training_args.py:1525: FutureWarning: `evaluation_strategy` is deprecated and will be removed in version 4.46 of 🤗 Transformers. Use `eval_strategy` instead\n",
      "  warnings.warn(\n",
      "Some weights of ViTForImageClassification were not initialized from the model checkpoint at google/vit-base-patch16-224-in21k and are newly initialized: ['classifier.bias', 'classifier.weight']\n",
      "You should probably TRAIN this model on a down-stream task to be able to use it for predictions and inference.\n",
      "Some weights of ViTForImageClassification were not initialized from the model checkpoint at google/vit-base-patch16-224-in21k and are newly initialized: ['classifier.bias', 'classifier.weight']\n",
      "You should probably TRAIN this model on a down-stream task to be able to use it for predictions and inference.\n",
      "  0%|          | 0/1875 [00:00<?, ?it/s]c:\\Users\\user\\anaconda3\\envs\\testing_torch\\lib\\site-packages\\transformers\\models\\vit\\modeling_vit.py:252: UserWarning: 1Torch was not compiled with flash attention. (Triggered internally at C:\\cb\\pytorch_1000000000000\\work\\aten\\src\\ATen\\native\\transformers\\cuda\\sdp_utils.cpp:455.)\n",
      "  context_layer = torch.nn.functional.scaled_dot_product_attention(\n",
      "  7%|▋         | 125/1875 [00:55<11:49,  2.47it/s]"
     ]
    },
    {
     "name": "stdout",
     "output_type": "stream",
     "text": [
      "{'loss': 1.9237, 'grad_norm': 2.6046998500823975, 'learning_rate': 9.333333333333334e-06, 'epoch': 0.2}\n"
     ]
    },
    {
     "name": "stderr",
     "output_type": "stream",
     "text": [
      " 13%|█▎        | 250/1875 [01:51<11:20,  2.39it/s]"
     ]
    },
    {
     "name": "stdout",
     "output_type": "stream",
     "text": [
      "{'loss': 1.2702, 'grad_norm': 3.7780303955078125, 'learning_rate': 8.666666666666668e-06, 'epoch': 0.4}\n"
     ]
    },
    {
     "name": "stderr",
     "output_type": "stream",
     "text": [
      " 20%|██        | 375/1875 [02:45<10:34,  2.36it/s]"
     ]
    },
    {
     "name": "stdout",
     "output_type": "stream",
     "text": [
      "{'loss': 0.9321, 'grad_norm': 1.7168519496917725, 'learning_rate': 8.000000000000001e-06, 'epoch': 0.6}\n"
     ]
    },
    {
     "name": "stderr",
     "output_type": "stream",
     "text": [
      " 27%|██▋       | 500/1875 [03:41<09:43,  2.36it/s]"
     ]
    },
    {
     "name": "stdout",
     "output_type": "stream",
     "text": [
      "{'loss': 0.7969, 'grad_norm': 1.9505627155303955, 'learning_rate': 7.333333333333333e-06, 'epoch': 0.8}\n"
     ]
    },
    {
     "name": "stderr",
     "output_type": "stream",
     "text": [
      " 33%|███▎      | 625/1875 [04:36<08:43,  2.39it/s]"
     ]
    },
    {
     "name": "stdout",
     "output_type": "stream",
     "text": [
      "{'loss': 0.6995, 'grad_norm': 5.6881818771362305, 'learning_rate': 6.666666666666667e-06, 'epoch': 1.0}\n"
     ]
    },
    {
     "name": "stderr",
     "output_type": "stream",
     "text": [
      "                                                  \n",
      " 33%|███▎      | 625/1875 [04:48<08:43,  2.39it/s]"
     ]
    },
    {
     "name": "stdout",
     "output_type": "stream",
     "text": [
      "{'eval_loss': 0.6316495537757874, 'eval_f1': 0.8797428763117692, 'eval_runtime': 11.8357, 'eval_samples_per_second': 84.49, 'eval_steps_per_second': 5.323, 'epoch': 1.0}\n"
     ]
    },
    {
     "name": "stderr",
     "output_type": "stream",
     "text": [
      " 40%|████      | 750/1875 [05:43<09:16,  2.02it/s]  "
     ]
    },
    {
     "name": "stdout",
     "output_type": "stream",
     "text": [
      "{'loss': 0.6189, 'grad_norm': 3.0232386589050293, 'learning_rate': 6e-06, 'epoch': 1.2}\n"
     ]
    },
    {
     "name": "stderr",
     "output_type": "stream",
     "text": [
      " 47%|████▋     | 875/1875 [06:36<07:03,  2.36it/s]"
     ]
    },
    {
     "name": "stdout",
     "output_type": "stream",
     "text": [
      "{'loss': 0.5674, 'grad_norm': 2.897817611694336, 'learning_rate': 5.333333333333334e-06, 'epoch': 1.4}\n"
     ]
    },
    {
     "name": "stderr",
     "output_type": "stream",
     "text": [
      " 53%|█████▎    | 1000/1875 [07:31<07:33,  1.93it/s]"
     ]
    },
    {
     "name": "stdout",
     "output_type": "stream",
     "text": [
      "{'loss': 0.5319, 'grad_norm': 2.749706506729126, 'learning_rate': 4.666666666666667e-06, 'epoch': 1.6}\n"
     ]
    },
    {
     "name": "stderr",
     "output_type": "stream",
     "text": [
      " 60%|██████    | 1125/1875 [08:24<05:08,  2.43it/s]"
     ]
    },
    {
     "name": "stdout",
     "output_type": "stream",
     "text": [
      "{'loss': 0.5046, 'grad_norm': 2.690584182739258, 'learning_rate': 4.000000000000001e-06, 'epoch': 1.8}\n"
     ]
    },
    {
     "name": "stderr",
     "output_type": "stream",
     "text": [
      " 67%|██████▋   | 1250/1875 [09:18<04:25,  2.35it/s]"
     ]
    },
    {
     "name": "stdout",
     "output_type": "stream",
     "text": [
      "{'loss': 0.4764, 'grad_norm': 2.5242724418640137, 'learning_rate': 3.3333333333333333e-06, 'epoch': 2.0}\n"
     ]
    },
    {
     "name": "stderr",
     "output_type": "stream",
     "text": [
      "                                                   \n",
      " 67%|██████▋   | 1250/1875 [09:30<04:25,  2.35it/s]"
     ]
    },
    {
     "name": "stdout",
     "output_type": "stream",
     "text": [
      "{'eval_loss': 0.47042492032051086, 'eval_f1': 0.9081810220097433, 'eval_runtime': 11.921, 'eval_samples_per_second': 83.885, 'eval_steps_per_second': 5.285, 'epoch': 2.0}\n"
     ]
    },
    {
     "name": "stderr",
     "output_type": "stream",
     "text": [
      " 73%|███████▎  | 1375/1875 [10:24<03:23,  2.46it/s]"
     ]
    },
    {
     "name": "stdout",
     "output_type": "stream",
     "text": [
      "{'loss': 0.4579, 'grad_norm': 3.3208765983581543, 'learning_rate': 2.666666666666667e-06, 'epoch': 2.2}\n"
     ]
    },
    {
     "name": "stderr",
     "output_type": "stream",
     "text": [
      " 80%|████████  | 1500/1875 [11:18<02:32,  2.46it/s]"
     ]
    },
    {
     "name": "stdout",
     "output_type": "stream",
     "text": [
      "{'loss': 0.4251, 'grad_norm': 8.31917953491211, 'learning_rate': 2.0000000000000003e-06, 'epoch': 2.4}\n"
     ]
    },
    {
     "name": "stderr",
     "output_type": "stream",
     "text": [
      " 87%|████████▋ | 1625/1875 [12:09<01:40,  2.48it/s]"
     ]
    },
    {
     "name": "stdout",
     "output_type": "stream",
     "text": [
      "{'loss': 0.4121, 'grad_norm': 1.79793381690979, 'learning_rate': 1.3333333333333334e-06, 'epoch': 2.6}\n"
     ]
    },
    {
     "name": "stderr",
     "output_type": "stream",
     "text": [
      " 93%|█████████▎| 1750/1875 [13:01<00:50,  2.47it/s]"
     ]
    },
    {
     "name": "stdout",
     "output_type": "stream",
     "text": [
      "{'loss': 0.4161, 'grad_norm': 4.276185512542725, 'learning_rate': 6.666666666666667e-07, 'epoch': 2.8}\n"
     ]
    },
    {
     "name": "stderr",
     "output_type": "stream",
     "text": [
      "100%|██████████| 1875/1875 [13:51<00:00,  2.49it/s]"
     ]
    },
    {
     "name": "stdout",
     "output_type": "stream",
     "text": [
      "{'loss': 0.417, 'grad_norm': 3.3328895568847656, 'learning_rate': 0.0, 'epoch': 3.0}\n"
     ]
    },
    {
     "name": "stderr",
     "output_type": "stream",
     "text": [
      "                                                   \n",
      "100%|██████████| 1875/1875 [14:03<00:00,  2.49it/s]"
     ]
    },
    {
     "name": "stdout",
     "output_type": "stream",
     "text": [
      "{'eval_loss': 0.42596685886383057, 'eval_f1': 0.9201352774781413, 'eval_runtime': 11.0405, 'eval_samples_per_second': 90.576, 'eval_steps_per_second': 5.706, 'epoch': 3.0}\n"
     ]
    },
    {
     "name": "stderr",
     "output_type": "stream",
     "text": [
      "100%|██████████| 1875/1875 [14:04<00:00,  2.22it/s]"
     ]
    },
    {
     "name": "stdout",
     "output_type": "stream",
     "text": [
      "{'train_runtime': 844.3866, 'train_samples_per_second': 35.529, 'train_steps_per_second': 2.221, 'train_loss': 0.6966573567708333, 'epoch': 3.0}\n"
     ]
    },
    {
     "name": "stderr",
     "output_type": "stream",
     "text": [
      "\n"
     ]
    },
    {
     "data": {
      "text/plain": [
       "TrainOutput(global_step=1875, training_loss=0.6966573567708333, metrics={'train_runtime': 844.3866, 'train_samples_per_second': 35.529, 'train_steps_per_second': 2.221, 'total_flos': 2.32492637712384e+18, 'train_loss': 0.6966573567708333, 'epoch': 3.0})"
      ]
     },
     "execution_count": 8,
     "metadata": {},
     "output_type": "execute_result"
    }
   ],
   "source": [
    "import torch\n",
    "import evaluate\n",
    "import numpy as np\n",
    "from itertools import chain\n",
    "from collections import defaultdict\n",
    "from torch.utils.data import Subset\n",
    "from torchvision import datasets\n",
    "from torchvision import transforms\n",
    "from transformers import AutoImageProcessor\n",
    "from transformers import ViTForImageClassification\n",
    "from transformers import TrainingArguments, Trainer\n",
    "\n",
    "def subset_sampler(dataset, classes, max_len):\n",
    "    target_idx = defaultdict(list)\n",
    "\n",
    "    for idx, label in enumerate(dataset.train_labels):\n",
    "        target_idx[int(label)].append(idx)\n",
    "\n",
    "    indices = list(chain.from_iterable([target_idx[idx][ : max_len] for idx in range(len(classes))]))\n",
    "\n",
    "    return Subset(dataset, indices)\n",
    "\n",
    "def model_init(classes, class_to_idx):\n",
    "    model = ViTForImageClassification.from_pretrained(\n",
    "        pretrained_model_name_or_path = \"google/vit-base-patch16-224-in21k\",\n",
    "        num_labels = len(classes),\n",
    "        id2label = {idx: label for label, idx in class_to_idx.items()},\n",
    "        label2id = class_to_idx,\n",
    "    )\n",
    "\n",
    "    return model\n",
    "\n",
    "def collator(data, transform):\n",
    "    images, labels = zip(*data)\n",
    "    pixel_values = torch.stack([transform(image) for image in images])\n",
    "    labels = torch.tensor([label for label in labels])\n",
    "\n",
    "    return {\"pixel_values\": pixel_values, \"labels\": labels}\n",
    "\n",
    "def compute_metrics(eval_pred):\n",
    "    metric = evaluate.load(\"f1\")\n",
    "    predictions, labels = eval_pred\n",
    "    predictions = np.argmax(predictions, axis = 1)\n",
    "    macro_f1 = metric.compute(predictions = predictions, references = labels, average = \"macro\")\n",
    "\n",
    "    return macro_f1\n",
    "\n",
    "train_dataset = datasets.FashionMNIST(root = \"datasets\", download = True, train = True)\n",
    "test_dataset = datasets.FashionMNIST(root = \"datasets\", download = True, train = False)\n",
    "\n",
    "classes = train_dataset.classes\n",
    "class_to_idx = train_dataset.class_to_idx\n",
    "\n",
    "subset_train_dataset = subset_sampler(dataset = train_dataset, classes = train_dataset.classes, max_len = 1000)\n",
    "subset_test_dataset = subset_sampler(dataset = test_dataset, classes = test_dataset.classes, max_len = 100)\n",
    "\n",
    "image_processor = AutoImageProcessor.from_pretrained(pretrained_model_name_or_path = \"google/vit-base-patch16-224-in21k\")\n",
    "\n",
    "transform = transforms.Compose([\n",
    "    transforms.ToTensor(),\n",
    "    transforms.Resize(size = (image_processor.size[\"height\"], image_processor.size[\"width\"])),\n",
    "    transforms.Lambda(lambda x: torch.cat([x, x, x], 0)),\n",
    "    transforms.Normalize(mean = image_processor.image_mean, std = image_processor.image_std)\n",
    "])\n",
    "\n",
    "args = TrainingArguments(\n",
    "    output_dir = \"models/ViT-FashionMNIST\",\n",
    "    save_strategy = \"epoch\",\n",
    "    evaluation_strategy = \"epoch\",\n",
    "    learning_rate = 1e-5,\n",
    "    per_device_train_batch_size = 16,\n",
    "    per_device_eval_batch_size = 16,\n",
    "    num_train_epochs = 3,\n",
    "    weight_decay = 0.001,\n",
    "    load_best_model_at_end = True,\n",
    "    metric_for_best_model = \"f1\",\n",
    "    logging_dir = \"logs\",\n",
    "    logging_steps = 125,\n",
    "    remove_unused_columns = False,\n",
    "    seed = 7\n",
    ")\n",
    "\n",
    "trainer = Trainer(\n",
    "    model_init = lambda x: model_init(classes, class_to_idx),\n",
    "    args = args,\n",
    "    train_dataset = subset_train_dataset,\n",
    "    eval_dataset = subset_test_dataset,\n",
    "    data_collator = lambda x:collator(x, transform),\n",
    "    compute_metrics = compute_metrics,\n",
    "    tokenizer = image_processor\n",
    ")\n",
    "\n",
    "trainer.train()"
   ]
  },
  {
   "cell_type": "code",
   "execution_count": 9,
   "metadata": {},
   "outputs": [
    {
     "name": "stderr",
     "output_type": "stream",
     "text": [
      "100%|██████████| 63/63 [00:12<00:00,  4.96it/s]\n"
     ]
    },
    {
     "name": "stdout",
     "output_type": "stream",
     "text": [
      "PredictionOutput(predictions=array([[ 3.0747428 , -0.6475201 , -0.31349835, ..., -0.57506925,\n",
      "        -0.32783478, -0.59344864],\n",
      "       [ 1.9908917 , -0.67991227, -0.2870769 , ..., -0.8056709 ,\n",
      "        -0.8114096 , -0.97272813],\n",
      "       [ 2.9991624 , -0.61407155, -0.18053368, ..., -0.53670514,\n",
      "        -0.3851152 , -0.60585666],\n",
      "       ...,\n",
      "       [-0.5819899 , -0.5872841 , -0.56017524, ...,  0.5857005 ,\n",
      "         0.39734906,  3.002391  ],\n",
      "       [-0.5652046 , -0.370638  , -0.3114145 , ...,  0.11991591,\n",
      "        -0.29912308,  3.4034278 ],\n",
      "       [-0.5331673 , -0.33400452, -0.2935348 , ..., -0.27478296,\n",
      "        -0.15160224,  3.4188042 ]], dtype=float32), label_ids=array([0, 0, 0, 0, 0, 0, 0, 0, 0, 0, 0, 0, 0, 0, 0, 0, 0, 0, 0, 0, 0, 0,\n",
      "       0, 0, 0, 0, 0, 0, 0, 0, 0, 0, 0, 0, 0, 0, 0, 0, 0, 0, 0, 0, 0, 0,\n",
      "       0, 0, 0, 0, 0, 0, 0, 0, 0, 0, 0, 0, 0, 0, 0, 0, 0, 0, 0, 0, 0, 0,\n",
      "       0, 0, 0, 0, 0, 0, 0, 0, 0, 0, 0, 0, 0, 0, 0, 0, 0, 0, 0, 0, 0, 0,\n",
      "       0, 0, 0, 0, 0, 0, 0, 0, 0, 0, 0, 0, 1, 1, 1, 1, 1, 1, 1, 1, 1, 1,\n",
      "       1, 1, 1, 1, 1, 1, 1, 1, 1, 1, 1, 1, 1, 1, 1, 1, 1, 1, 1, 1, 1, 1,\n",
      "       1, 1, 1, 1, 1, 1, 1, 1, 1, 1, 1, 1, 1, 1, 1, 1, 1, 1, 1, 1, 1, 1,\n",
      "       1, 1, 1, 1, 1, 1, 1, 1, 1, 1, 1, 1, 1, 1, 1, 1, 1, 1, 1, 1, 1, 1,\n",
      "       1, 1, 1, 1, 1, 1, 1, 1, 1, 1, 1, 1, 1, 1, 1, 1, 1, 1, 1, 1, 1, 1,\n",
      "       1, 1, 2, 2, 2, 2, 2, 2, 2, 2, 2, 2, 2, 2, 2, 2, 2, 2, 2, 2, 2, 2,\n",
      "       2, 2, 2, 2, 2, 2, 2, 2, 2, 2, 2, 2, 2, 2, 2, 2, 2, 2, 2, 2, 2, 2,\n",
      "       2, 2, 2, 2, 2, 2, 2, 2, 2, 2, 2, 2, 2, 2, 2, 2, 2, 2, 2, 2, 2, 2,\n",
      "       2, 2, 2, 2, 2, 2, 2, 2, 2, 2, 2, 2, 2, 2, 2, 2, 2, 2, 2, 2, 2, 2,\n",
      "       2, 2, 2, 2, 2, 2, 2, 2, 2, 2, 2, 2, 2, 2, 3, 3, 3, 3, 3, 3, 3, 3,\n",
      "       3, 3, 3, 3, 3, 3, 3, 3, 3, 3, 3, 3, 3, 3, 3, 3, 3, 3, 3, 3, 3, 3,\n",
      "       3, 3, 3, 3, 3, 3, 3, 3, 3, 3, 3, 3, 3, 3, 3, 3, 3, 3, 3, 3, 3, 3,\n",
      "       3, 3, 3, 3, 3, 3, 3, 3, 3, 3, 3, 3, 3, 3, 3, 3, 3, 3, 3, 3, 3, 3,\n",
      "       3, 3, 3, 3, 3, 3, 3, 3, 3, 3, 3, 3, 3, 3, 3, 3, 3, 3, 3, 3, 3, 3,\n",
      "       3, 3, 3, 3, 4, 4, 4, 4, 4, 4, 4, 4, 4, 4, 4, 4, 4, 4, 4, 4, 4, 4,\n",
      "       4, 4, 4, 4, 4, 4, 4, 4, 4, 4, 4, 4, 4, 4, 4, 4, 4, 4, 4, 4, 4, 4,\n",
      "       4, 4, 4, 4, 4, 4, 4, 4, 4, 4, 4, 4, 4, 4, 4, 4, 4, 4, 4, 4, 4, 4,\n",
      "       4, 4, 4, 4, 4, 4, 4, 4, 4, 4, 4, 4, 4, 4, 4, 4, 4, 4, 4, 4, 4, 4,\n",
      "       4, 4, 4, 4, 4, 4, 4, 4, 4, 4, 4, 4, 4, 4, 4, 4, 5, 5, 5, 5, 5, 5,\n",
      "       5, 5, 5, 5, 5, 5, 5, 5, 5, 5, 5, 5, 5, 5, 5, 5, 5, 5, 5, 5, 5, 5,\n",
      "       5, 5, 5, 5, 5, 5, 5, 5, 5, 5, 5, 5, 5, 5, 5, 5, 5, 5, 5, 5, 5, 5,\n",
      "       5, 5, 5, 5, 5, 5, 5, 5, 5, 5, 5, 5, 5, 5, 5, 5, 5, 5, 5, 5, 5, 5,\n",
      "       5, 5, 5, 5, 5, 5, 5, 5, 5, 5, 5, 5, 5, 5, 5, 5, 5, 5, 5, 5, 5, 5,\n",
      "       5, 5, 5, 5, 5, 5, 6, 6, 6, 6, 6, 6, 6, 6, 6, 6, 6, 6, 6, 6, 6, 6,\n",
      "       6, 6, 6, 6, 6, 6, 6, 6, 6, 6, 6, 6, 6, 6, 6, 6, 6, 6, 6, 6, 6, 6,\n",
      "       6, 6, 6, 6, 6, 6, 6, 6, 6, 6, 6, 6, 6, 6, 6, 6, 6, 6, 6, 6, 6, 6,\n",
      "       6, 6, 6, 6, 6, 6, 6, 6, 6, 6, 6, 6, 6, 6, 6, 6, 6, 6, 6, 6, 6, 6,\n",
      "       6, 6, 6, 6, 6, 6, 6, 6, 6, 6, 6, 6, 6, 6, 6, 6, 6, 6, 7, 7, 7, 7,\n",
      "       7, 7, 7, 7, 7, 7, 7, 7, 7, 7, 7, 7, 7, 7, 7, 7, 7, 7, 7, 7, 7, 7,\n",
      "       7, 7, 7, 7, 7, 7, 7, 7, 7, 7, 7, 7, 7, 7, 7, 7, 7, 7, 7, 7, 7, 7,\n",
      "       7, 7, 7, 7, 7, 7, 7, 7, 7, 7, 7, 7, 7, 7, 7, 7, 7, 7, 7, 7, 7, 7,\n",
      "       7, 7, 7, 7, 7, 7, 7, 7, 7, 7, 7, 7, 7, 7, 7, 7, 7, 7, 7, 7, 7, 7,\n",
      "       7, 7, 7, 7, 7, 7, 7, 7, 8, 8, 8, 8, 8, 8, 8, 8, 8, 8, 8, 8, 8, 8,\n",
      "       8, 8, 8, 8, 8, 8, 8, 8, 8, 8, 8, 8, 8, 8, 8, 8, 8, 8, 8, 8, 8, 8,\n",
      "       8, 8, 8, 8, 8, 8, 8, 8, 8, 8, 8, 8, 8, 8, 8, 8, 8, 8, 8, 8, 8, 8,\n",
      "       8, 8, 8, 8, 8, 8, 8, 8, 8, 8, 8, 8, 8, 8, 8, 8, 8, 8, 8, 8, 8, 8,\n",
      "       8, 8, 8, 8, 8, 8, 8, 8, 8, 8, 8, 8, 8, 8, 8, 8, 8, 8, 8, 8, 9, 9,\n",
      "       9, 9, 9, 9, 9, 9, 9, 9, 9, 9, 9, 9, 9, 9, 9, 9, 9, 9, 9, 9, 9, 9,\n",
      "       9, 9, 9, 9, 9, 9, 9, 9, 9, 9, 9, 9, 9, 9, 9, 9, 9, 9, 9, 9, 9, 9,\n",
      "       9, 9, 9, 9, 9, 9, 9, 9, 9, 9, 9, 9, 9, 9, 9, 9, 9, 9, 9, 9, 9, 9,\n",
      "       9, 9, 9, 9, 9, 9, 9, 9, 9, 9, 9, 9, 9, 9, 9, 9, 9, 9, 9, 9, 9, 9,\n",
      "       9, 9, 9, 9, 9, 9, 9, 9, 9, 9], dtype=int64), metrics={'test_loss': 0.42596685886383057, 'test_f1': 0.9201352774781413, 'test_runtime': 12.9945, 'test_samples_per_second': 76.956, 'test_steps_per_second': 4.848})\n"
     ]
    },
    {
     "data": {
      "image/png": "[encoded data removed]",
      "text/plain": [
       "<Figure size 1000x1000 with 2 Axes>"
      ]
     },
     "metadata": {},
     "output_type": "display_data"
    }
   ],
   "source": [
    "import matplotlib.pyplot as plt\n",
    "from sklearn.metrics import confusion_matrix, ConfusionMatrixDisplay\n",
    "\n",
    "outputs = trainer.predict(subset_test_dataset)\n",
    "print(outputs)\n",
    "\n",
    "y_true = outputs.label_ids\n",
    "y_pred = outputs.predictions.argmax(1)\n",
    "\n",
    "label = list(classes)\n",
    "matrix = outputs.predictions.argmax(1)\n",
    "\n",
    "labels = list(classes)\n",
    "matrix = confusion_matrix(y_true, y_pred)\n",
    "display = ConfusionMatrixDisplay(confusion_matrix = matrix, display_labels = labels)\n",
    "_, ax = plt.subplots(figsize = (10, 10))\n",
    "display.plot(xticks_rotation = 45, ax = ax)\n",
    "plt.show()"
   ]
  },
  {
   "cell_type": "code",
   "execution_count": 10,
   "metadata": {},
   "outputs": [
    {
     "name": "stdout",
     "output_type": "stream",
     "text": [
      "tensor([[[ 0,  0, -1, -1],\n",
      "         [ 0,  0, -1, -1],\n",
      "         [ 1,  1,  0,  0],\n",
      "         [ 1,  1,  0,  0]],\n",
      "\n",
      "        [[ 0, -1,  0, -1],\n",
      "         [ 1,  0,  1,  0],\n",
      "         [ 0, -1,  0, -1],\n",
      "         [ 1,  0,  1,  0]]])\n",
      "torch.Size([2, 4, 4])\n"
     ]
    }
   ],
   "source": [
    "import torch\n",
    "\n",
    "window_size = 2\n",
    "coords_h = torch.arange(window_size)\n",
    "coords_w = torch.arange(window_size)\n",
    "coords = torch.stack(torch.meshgrid([coords_h, coords_w], indexing = \"ij\"))\n",
    "coords_flatten = torch.flatten(coords, 1)\n",
    "relative_coords = coords_flatten[:, :, None] - coords_flatten[:, None, :]\n",
    "\n",
    "print(relative_coords)\n",
    "print(relative_coords.shape)"
   ]
  },
  {
   "cell_type": "code",
   "execution_count": 11,
   "metadata": {},
   "outputs": [
    {
     "name": "stdout",
     "output_type": "stream",
     "text": [
      "X축에 대한 행렬: \n",
      "tensor([[3, 3, 0, 0],\n",
      "        [3, 3, 0, 0],\n",
      "        [6, 6, 3, 3],\n",
      "        [6, 6, 3, 3]])\n",
      "\n",
      "Y축에 대한 행렬: \n",
      "tensor([[1, 0, 1, 0],\n",
      "        [2, 1, 2, 1],\n",
      "        [1, 0, 1, 0],\n",
      "        [2, 1, 2, 1]])\n",
      "\n",
      "X, Y축에 대한 위치 행렬: \n",
      "tensor([[4, 3, 1, 0],\n",
      "        [5, 4, 2, 1],\n",
      "        [7, 6, 4, 3],\n",
      "        [8, 7, 5, 4]])\n"
     ]
    }
   ],
   "source": [
    "x_coords = relative_coords[0, : , : ]\n",
    "y_coords = relative_coords[1, : , : ]\n",
    "\n",
    "x_coords += window_size - 1\n",
    "y_coords += window_size - 1\n",
    "x_coords *= 2 * window_size - 1\n",
    "\n",
    "print(f\"X축에 대한 행렬: \\n{x_coords}\\n\")\n",
    "print(f\"Y축에 대한 행렬: \\n{y_coords}\\n\")\n",
    "\n",
    "relative_posision_index = x_coords + y_coords\n",
    "\n",
    "print(f\"X, Y축에 대한 위치 행렬: \\n{relative_posision_index}\")"
   ]
  },
  {
   "cell_type": "code",
   "execution_count": 12,
   "metadata": {},
   "outputs": [
    {
     "name": "stdout",
     "output_type": "stream",
     "text": [
      "torch.Size([4, 4, 1])\n"
     ]
    }
   ],
   "source": [
    "num_heads = 1\n",
    "\n",
    "relative_posision_bias_table = torch.Tensor(torch.zeros((2 * window_size - 1) * (2 * window_size -1), num_heads))\n",
    "relative_posision_bias = relative_posision_bias_table[relative_posision_index.view(-1)]\n",
    "relative_posision_bias = relative_posision_bias.view(window_size * window_size, window_size * window_size, -1)\n",
    "\n",
    "print(relative_posision_bias.shape)"
   ]
  },
  {
   "cell_type": "code",
   "execution_count": 13,
   "metadata": {},
   "outputs": [
    {
     "name": "stderr",
     "output_type": "stream",
     "text": [
      "Some weights of SwinForImageClassification were not initialized from the model checkpoint at microsoft/swin-tiny-patch4-window7-224 and are newly initialized because the shapes did not match:\n",
      "- classifier.bias: found shape torch.Size([1000]) in the checkpoint and torch.Size([10]) in the model instantiated\n",
      "- classifier.weight: found shape torch.Size([1000, 768]) in the checkpoint and torch.Size([10, 768]) in the model instantiated\n",
      "You should probably TRAIN this model on a down-stream task to be able to use it for predictions and inference.\n"
     ]
    },
    {
     "name": "stdout",
     "output_type": "stream",
     "text": [
      "swin\n",
      "└ embeddings\n",
      "|    └ SwinPatchEmbeddings(\n",
      "  (projection): Conv2d(3, 96, kernel_size=(4, 4), stride=(4, 4))\n",
      ")\n",
      "|    |   └ patch_embeddings Conv2d(3, 96, kernel_size=(4, 4), stride=(4, 4))\n",
      "|    └ LayerNorm((96,), eps=1e-05, elementwise_affine=True)\n",
      "|    └ Dropout(p=0.0, inplace=False)\n",
      "└ encoder\n",
      "|    └ ModuleList(\n",
      "  (0): SwinStage(\n",
      "    (blocks): ModuleList(\n",
      "      (0-1): 2 x SwinLayer(\n",
      "        (layernorm_before): LayerNorm((96,), eps=1e-05, elementwise_affine=True)\n",
      "        (attention): SwinAttention(\n",
      "          (self): SwinSelfAttention(\n",
      "            (query): Linear(in_features=96, out_features=96, bias=True)\n",
      "            (key): Linear(in_features=96, out_features=96, bias=True)\n",
      "            (value): Linear(in_features=96, out_features=96, bias=True)\n",
      "            (dropout): Dropout(p=0.0, inplace=False)\n",
      "          )\n",
      "          (output): SwinSelfOutput(\n",
      "            (dense): Linear(in_features=96, out_features=96, bias=True)\n",
      "            (dropout): Dropout(p=0.0, inplace=False)\n",
      "          )\n",
      "        )\n",
      "        (drop_path): SwinDropPath(p=0.1)\n",
      "        (layernorm_after): LayerNorm((96,), eps=1e-05, elementwise_affine=True)\n",
      "        (intermediate): SwinIntermediate(\n",
      "          (dense): Linear(in_features=96, out_features=384, bias=True)\n",
      "          (intermediate_act_fn): GELUActivation()\n",
      "        )\n",
      "        (output): SwinOutput(\n",
      "          (dense): Linear(in_features=384, out_features=96, bias=True)\n",
      "          (dropout): Dropout(p=0.0, inplace=False)\n",
      "        )\n",
      "      )\n",
      "    )\n",
      "    (downsample): SwinPatchMerging(\n",
      "      (reduction): Linear(in_features=384, out_features=192, bias=False)\n",
      "      (norm): LayerNorm((384,), eps=1e-05, elementwise_affine=True)\n",
      "    )\n",
      "  )\n",
      "  (1): SwinStage(\n",
      "    (blocks): ModuleList(\n",
      "      (0-1): 2 x SwinLayer(\n",
      "        (layernorm_before): LayerNorm((192,), eps=1e-05, elementwise_affine=True)\n",
      "        (attention): SwinAttention(\n",
      "          (self): SwinSelfAttention(\n",
      "            (query): Linear(in_features=192, out_features=192, bias=True)\n",
      "            (key): Linear(in_features=192, out_features=192, bias=True)\n",
      "            (value): Linear(in_features=192, out_features=192, bias=True)\n",
      "            (dropout): Dropout(p=0.0, inplace=False)\n",
      "          )\n",
      "          (output): SwinSelfOutput(\n",
      "            (dense): Linear(in_features=192, out_features=192, bias=True)\n",
      "            (dropout): Dropout(p=0.0, inplace=False)\n",
      "          )\n",
      "        )\n",
      "        (drop_path): SwinDropPath(p=0.1)\n",
      "        (layernorm_after): LayerNorm((192,), eps=1e-05, elementwise_affine=True)\n",
      "        (intermediate): SwinIntermediate(\n",
      "          (dense): Linear(in_features=192, out_features=768, bias=True)\n",
      "          (intermediate_act_fn): GELUActivation()\n",
      "        )\n",
      "        (output): SwinOutput(\n",
      "          (dense): Linear(in_features=768, out_features=192, bias=True)\n",
      "          (dropout): Dropout(p=0.0, inplace=False)\n",
      "        )\n",
      "      )\n",
      "    )\n",
      "    (downsample): SwinPatchMerging(\n",
      "      (reduction): Linear(in_features=768, out_features=384, bias=False)\n",
      "      (norm): LayerNorm((768,), eps=1e-05, elementwise_affine=True)\n",
      "    )\n",
      "  )\n",
      "  (2): SwinStage(\n",
      "    (blocks): ModuleList(\n",
      "      (0-5): 6 x SwinLayer(\n",
      "        (layernorm_before): LayerNorm((384,), eps=1e-05, elementwise_affine=True)\n",
      "        (attention): SwinAttention(\n",
      "          (self): SwinSelfAttention(\n",
      "            (query): Linear(in_features=384, out_features=384, bias=True)\n",
      "            (key): Linear(in_features=384, out_features=384, bias=True)\n",
      "            (value): Linear(in_features=384, out_features=384, bias=True)\n",
      "            (dropout): Dropout(p=0.0, inplace=False)\n",
      "          )\n",
      "          (output): SwinSelfOutput(\n",
      "            (dense): Linear(in_features=384, out_features=384, bias=True)\n",
      "            (dropout): Dropout(p=0.0, inplace=False)\n",
      "          )\n",
      "        )\n",
      "        (drop_path): SwinDropPath(p=0.1)\n",
      "        (layernorm_after): LayerNorm((384,), eps=1e-05, elementwise_affine=True)\n",
      "        (intermediate): SwinIntermediate(\n",
      "          (dense): Linear(in_features=384, out_features=1536, bias=True)\n",
      "          (intermediate_act_fn): GELUActivation()\n",
      "        )\n",
      "        (output): SwinOutput(\n",
      "          (dense): Linear(in_features=1536, out_features=384, bias=True)\n",
      "          (dropout): Dropout(p=0.0, inplace=False)\n",
      "        )\n",
      "      )\n",
      "    )\n",
      "    (downsample): SwinPatchMerging(\n",
      "      (reduction): Linear(in_features=1536, out_features=768, bias=False)\n",
      "      (norm): LayerNorm((1536,), eps=1e-05, elementwise_affine=True)\n",
      "    )\n",
      "  )\n",
      "  (3): SwinStage(\n",
      "    (blocks): ModuleList(\n",
      "      (0-1): 2 x SwinLayer(\n",
      "        (layernorm_before): LayerNorm((768,), eps=1e-05, elementwise_affine=True)\n",
      "        (attention): SwinAttention(\n",
      "          (self): SwinSelfAttention(\n",
      "            (query): Linear(in_features=768, out_features=768, bias=True)\n",
      "            (key): Linear(in_features=768, out_features=768, bias=True)\n",
      "            (value): Linear(in_features=768, out_features=768, bias=True)\n",
      "            (dropout): Dropout(p=0.0, inplace=False)\n",
      "          )\n",
      "          (output): SwinSelfOutput(\n",
      "            (dense): Linear(in_features=768, out_features=768, bias=True)\n",
      "            (dropout): Dropout(p=0.0, inplace=False)\n",
      "          )\n",
      "        )\n",
      "        (drop_path): SwinDropPath(p=0.1)\n",
      "        (layernorm_after): LayerNorm((768,), eps=1e-05, elementwise_affine=True)\n",
      "        (intermediate): SwinIntermediate(\n",
      "          (dense): Linear(in_features=768, out_features=3072, bias=True)\n",
      "          (intermediate_act_fn): GELUActivation()\n",
      "        )\n",
      "        (output): SwinOutput(\n",
      "          (dense): Linear(in_features=3072, out_features=768, bias=True)\n",
      "          (dropout): Dropout(p=0.0, inplace=False)\n",
      "        )\n",
      "      )\n",
      "    )\n",
      "  )\n",
      ")\n",
      "|    |   └\n",
      "|    |   └\n",
      "|    |   └\n",
      "|    |   └\n",
      "└ layernorm\n",
      "└ pooler\n",
      "classifier\n"
     ]
    }
   ],
   "source": [
    "from transformers import SwinForImageClassification\n",
    "\n",
    "model = SwinForImageClassification.from_pretrained(\n",
    "    pretrained_model_name_or_path=\"microsoft/swin-tiny-patch4-window7-224\",\n",
    "    num_labels = len(train_dataset.classes),\n",
    "    id2label = {idx: label for label, idx in train_dataset.class_to_idx.items()},\n",
    "    label2id = train_dataset.class_to_idx,\n",
    "    ignore_mismatched_sizes = True\n",
    ")\n",
    "\n",
    "for main_name, main_module in model.named_children():\n",
    "    print(main_name)\n",
    "\n",
    "    for sub_name, sub_module in main_module.named_children():\n",
    "        print(\"└\", sub_name)\n",
    "\n",
    "        for ssub_name, ssub_module in sub_module.named_children():\n",
    "            print(\"|    └\", ssub_module)\n",
    "\n",
    "            for sssub_name, sssub_module in ssub_module.named_children():\n",
    "\n",
    "                if sssub_name == \"projection\":\n",
    "                    print(\"|    |   └\", ssub_name, sssub_module)\n",
    "                else:\n",
    "                    print(\"|    |   └\")"
   ]
  },
  {
   "cell_type": "code",
   "execution_count": 14,
   "metadata": {},
   "outputs": [
    {
     "name": "stdout",
     "output_type": "stream",
     "text": [
      "이미지 차원:  torch.Size([32, 3, 224, 224])\n",
      "모듈:  SwinPatchEmbeddings(\n",
      "  (projection): Conv2d(3, 96, kernel_size=(4, 4), stride=(4, 4))\n",
      ")\n",
      "패치 임베딩 차원:  torch.Size([32, 3136, 96])\n"
     ]
    }
   ],
   "source": [
    "batch = next(iter(train_dataloader))\n",
    "print(\"이미지 차원: \", batch[\"pixel_values\"].shape)\n",
    "\n",
    "patch_emb_output, shape = model.swin.embeddings.patch_embeddings(batch[\"pixel_values\"])\n",
    "\n",
    "print(\"모듈: \", model.swin.embeddings.patch_embeddings)\n",
    "print(\"패치 임베딩 차원: \", patch_emb_output.shape)"
   ]
  },
  {
   "cell_type": "code",
   "execution_count": 15,
   "metadata": {},
   "outputs": [
    {
     "name": "stdout",
     "output_type": "stream",
     "text": [
      "blocks\n",
      "└ 0\n",
      "|    └ layernorm_before\n",
      "|    └ attention\n",
      "|    └ drop_path\n",
      "|    └ layernorm_after\n",
      "|    └ intermediate\n",
      "|    └ output\n",
      "└ 1\n",
      "|    └ layernorm_before\n",
      "|    └ attention\n",
      "|    └ drop_path\n",
      "|    └ layernorm_after\n",
      "|    └ intermediate\n",
      "|    └ output\n",
      "downsample\n",
      "└ reduction\n",
      "└ norm\n"
     ]
    }
   ],
   "source": [
    "for main_name, main_module in model.swin.encoder.layers[0].named_children():\n",
    "    print(main_name)\n",
    "\n",
    "    for sub_name, sub_module in main_module.named_children():\n",
    "        print(\"└\", sub_name)\n",
    "\n",
    "        for ssub_name, ssub_module in sub_module.named_children():\n",
    "            print(\"|    └\", ssub_name)"
   ]
  },
  {
   "cell_type": "code",
   "execution_count": 16,
   "metadata": {},
   "outputs": [
    {
     "name": "stdout",
     "output_type": "stream",
     "text": [
      "SwinLayer(\n",
      "  (layernorm_before): LayerNorm((96,), eps=1e-05, elementwise_affine=True)\n",
      "  (attention): SwinAttention(\n",
      "    (self): SwinSelfAttention(\n",
      "      (query): Linear(in_features=96, out_features=96, bias=True)\n",
      "      (key): Linear(in_features=96, out_features=96, bias=True)\n",
      "      (value): Linear(in_features=96, out_features=96, bias=True)\n",
      "      (dropout): Dropout(p=0.0, inplace=False)\n",
      "    )\n",
      "    (output): SwinSelfOutput(\n",
      "      (dense): Linear(in_features=96, out_features=96, bias=True)\n",
      "      (dropout): Dropout(p=0.0, inplace=False)\n",
      "    )\n",
      "  )\n",
      "  (drop_path): SwinDropPath(p=0.1)\n",
      "  (layernorm_after): LayerNorm((96,), eps=1e-05, elementwise_affine=True)\n",
      "  (intermediate): SwinIntermediate(\n",
      "    (dense): Linear(in_features=96, out_features=384, bias=True)\n",
      "    (intermediate_act_fn): GELUActivation()\n",
      "  )\n",
      "  (output): SwinOutput(\n",
      "    (dense): Linear(in_features=384, out_features=96, bias=True)\n",
      "    (dropout): Dropout(p=0.0, inplace=False)\n",
      "  )\n",
      ")\n"
     ]
    }
   ],
   "source": [
    "print(model.swin.encoder.layers[0].blocks[0])"
   ]
  },
  {
   "cell_type": "code",
   "execution_count": 17,
   "metadata": {},
   "outputs": [
    {
     "name": "stdout",
     "output_type": "stream",
     "text": [
      "패치 이베딩 차원:  torch.Size([32, 3136, 96])\n",
      "W-MSA 결과 차원:  torch.Size([32, 3136, 96])\n",
      "SW-MSA 겨로가 차원:  torch.Size([32, 3136, 96])\n"
     ]
    }
   ],
   "source": [
    "print(\"패치 이베딩 차원: \", patch_emb_output.shape)\n",
    "\n",
    "W_MSA = model.swin.encoder.layers[0].blocks[0]\n",
    "SW_MSA = model.swin.encoder.layers[0].blocks[1]\n",
    "\n",
    "W_MSA_output = W_MSA(patch_emb_output, W_MSA.input_resolution)[0]\n",
    "SW_MSA_output = SW_MSA(W_MSA_output, SW_MSA.input_resolution)[0]\n",
    "\n",
    "print(\"W-MSA 결과 차원: \", W_MSA_output.shape)\n",
    "print(\"SW-MSA 겨로가 차원: \", SW_MSA_output.shape)"
   ]
  },
  {
   "cell_type": "code",
   "execution_count": 18,
   "metadata": {},
   "outputs": [
    {
     "name": "stdout",
     "output_type": "stream",
     "text": [
      "patch_merge 모듈 : SwinPatchMerging(\n",
      "  (reduction): Linear(in_features=384, out_features=192, bias=False)\n",
      "  (norm): LayerNorm((384,), eps=1e-05, elementwise_affine=True)\n",
      ")\n",
      "patch_merge 결과 차원 : torch.Size([32, 784, 192])\n"
     ]
    }
   ],
   "source": [
    "patch_merge = model.swin.encoder.layers[0].downsample\n",
    "print(\"patch_merge 모듈 :\", patch_merge)\n",
    "\n",
    "output = patch_merge(SW_MSA_output, patch_merge.input_resolution)\n",
    "print(\"patch_merge 결과 차원 :\", output.shape)"
   ]
  },
  {
   "cell_type": "code",
   "execution_count": 19,
   "metadata": {},
   "outputs": [
    {
     "name": "stderr",
     "output_type": "stream",
     "text": [
      "c:\\Users\\user\\anaconda3\\envs\\testing_torch\\lib\\site-packages\\torchvision\\datasets\\mnist.py:66: UserWarning: train_labels has been renamed targets\n",
      "  warnings.warn(\"train_labels has been renamed targets\")\n",
      "c:\\Users\\user\\anaconda3\\envs\\testing_torch\\lib\\site-packages\\transformers\\training_args.py:1525: FutureWarning: `evaluation_strategy` is deprecated and will be removed in version 4.46 of 🤗 Transformers. Use `eval_strategy` instead\n",
      "  warnings.warn(\n",
      "Some weights of SwinForImageClassification were not initialized from the model checkpoint at microsoft/swin-tiny-patch4-window7-224 and are newly initialized because the shapes did not match:\n",
      "- classifier.bias: found shape torch.Size([1000]) in the checkpoint and torch.Size([10]) in the model instantiated\n",
      "- classifier.weight: found shape torch.Size([1000, 768]) in the checkpoint and torch.Size([10, 768]) in the model instantiated\n",
      "You should probably TRAIN this model on a down-stream task to be able to use it for predictions and inference.\n",
      "Some weights of SwinForImageClassification were not initialized from the model checkpoint at microsoft/swin-tiny-patch4-window7-224 and are newly initialized because the shapes did not match:\n",
      "- classifier.bias: found shape torch.Size([1000]) in the checkpoint and torch.Size([10]) in the model instantiated\n",
      "- classifier.weight: found shape torch.Size([1000, 768]) in the checkpoint and torch.Size([10, 768]) in the model instantiated\n",
      "You should probably TRAIN this model on a down-stream task to be able to use it for predictions and inference.\n",
      "  7%|▋         | 126/1875 [00:26<05:59,  4.86it/s]"
     ]
    },
    {
     "name": "stdout",
     "output_type": "stream",
     "text": [
      "{'loss': 1.2401, 'grad_norm': 68.71468353271484, 'learning_rate': 9.333333333333334e-06, 'epoch': 0.2}\n"
     ]
    },
    {
     "name": "stderr",
     "output_type": "stream",
     "text": [
      " 13%|█▎        | 250/1875 [00:52<05:36,  4.83it/s]"
     ]
    },
    {
     "name": "stdout",
     "output_type": "stream",
     "text": [
      "{'loss': 0.5527, 'grad_norm': 28.945125579833984, 'learning_rate': 8.666666666666668e-06, 'epoch': 0.4}\n"
     ]
    },
    {
     "name": "stderr",
     "output_type": "stream",
     "text": [
      " 20%|██        | 375/1875 [01:18<05:06,  4.89it/s]"
     ]
    },
    {
     "name": "stdout",
     "output_type": "stream",
     "text": [
      "{'loss': 0.4125, 'grad_norm': 30.033754348754883, 'learning_rate': 8.000000000000001e-06, 'epoch': 0.6}\n"
     ]
    },
    {
     "name": "stderr",
     "output_type": "stream",
     "text": [
      " 27%|██▋       | 500/1875 [01:45<04:42,  4.87it/s]"
     ]
    },
    {
     "name": "stdout",
     "output_type": "stream",
     "text": [
      "{'loss': 0.4079, 'grad_norm': 18.297677993774414, 'learning_rate': 7.333333333333333e-06, 'epoch': 0.8}\n"
     ]
    },
    {
     "name": "stderr",
     "output_type": "stream",
     "text": [
      " 33%|███▎      | 625/1875 [02:10<04:17,  4.86it/s]"
     ]
    },
    {
     "name": "stdout",
     "output_type": "stream",
     "text": [
      "{'loss': 0.3595, 'grad_norm': 45.46546936035156, 'learning_rate': 6.666666666666667e-06, 'epoch': 1.0}\n"
     ]
    },
    {
     "name": "stderr",
     "output_type": "stream",
     "text": [
      "\n",
      " 33%|███▎      | 625/1875 [02:16<04:17,  4.86it/s]"
     ]
    },
    {
     "name": "stdout",
     "output_type": "stream",
     "text": [
      "{'eval_loss': 0.3191010057926178, 'eval_f1': 0.8883462742987298, 'eval_runtime': 6.1988, 'eval_samples_per_second': 161.321, 'eval_steps_per_second': 10.163, 'epoch': 1.0}\n"
     ]
    },
    {
     "name": "stderr",
     "output_type": "stream",
     "text": [
      " 40%|████      | 750/1875 [02:42<03:49,  4.91it/s]"
     ]
    },
    {
     "name": "stdout",
     "output_type": "stream",
     "text": [
      "{'loss': 0.3171, 'grad_norm': 32.27617263793945, 'learning_rate': 6e-06, 'epoch': 1.2}\n"
     ]
    },
    {
     "name": "stderr",
     "output_type": "stream",
     "text": [
      " 47%|████▋     | 875/1875 [03:10<03:26,  4.84it/s]"
     ]
    },
    {
     "name": "stdout",
     "output_type": "stream",
     "text": [
      "{'loss': 0.3139, 'grad_norm': 26.98628807067871, 'learning_rate': 5.333333333333334e-06, 'epoch': 1.4}\n"
     ]
    },
    {
     "name": "stderr",
     "output_type": "stream",
     "text": [
      " 53%|█████▎    | 1000/1875 [03:36<03:04,  4.75it/s]"
     ]
    },
    {
     "name": "stdout",
     "output_type": "stream",
     "text": [
      "{'loss': 0.3186, 'grad_norm': 5.835513591766357, 'learning_rate': 4.666666666666667e-06, 'epoch': 1.6}\n"
     ]
    },
    {
     "name": "stderr",
     "output_type": "stream",
     "text": [
      " 60%|██████    | 1125/1875 [04:03<02:37,  4.78it/s]"
     ]
    },
    {
     "name": "stdout",
     "output_type": "stream",
     "text": [
      "{'loss': 0.2817, 'grad_norm': 8.690406799316406, 'learning_rate': 4.000000000000001e-06, 'epoch': 1.8}\n"
     ]
    },
    {
     "name": "stderr",
     "output_type": "stream",
     "text": [
      " 67%|██████▋   | 1250/1875 [04:30<02:06,  4.94it/s]"
     ]
    },
    {
     "name": "stdout",
     "output_type": "stream",
     "text": [
      "{'loss': 0.2699, 'grad_norm': 13.222615242004395, 'learning_rate': 3.3333333333333333e-06, 'epoch': 2.0}\n"
     ]
    },
    {
     "name": "stderr",
     "output_type": "stream",
     "text": [
      "\n",
      " 67%|██████▋   | 1250/1875 [04:36<02:06,  4.94it/s]"
     ]
    },
    {
     "name": "stdout",
     "output_type": "stream",
     "text": [
      "{'eval_loss': 0.2720056474208832, 'eval_f1': 0.9088339761786663, 'eval_runtime': 6.1393, 'eval_samples_per_second': 162.885, 'eval_steps_per_second': 10.262, 'epoch': 2.0}\n"
     ]
    },
    {
     "name": "stderr",
     "output_type": "stream",
     "text": [
      " 73%|███████▎  | 1376/1875 [05:02<01:43,  4.82it/s]"
     ]
    },
    {
     "name": "stdout",
     "output_type": "stream",
     "text": [
      "{'loss': 0.2619, 'grad_norm': 13.100768089294434, 'learning_rate': 2.666666666666667e-06, 'epoch': 2.2}\n"
     ]
    },
    {
     "name": "stderr",
     "output_type": "stream",
     "text": [
      " 80%|████████  | 1501/1875 [05:28<01:16,  4.89it/s]"
     ]
    },
    {
     "name": "stdout",
     "output_type": "stream",
     "text": [
      "{'loss': 0.2328, 'grad_norm': 25.81658172607422, 'learning_rate': 2.0000000000000003e-06, 'epoch': 2.4}\n"
     ]
    },
    {
     "name": "stderr",
     "output_type": "stream",
     "text": [
      " 87%|████████▋ | 1626/1875 [05:54<00:50,  4.89it/s]"
     ]
    },
    {
     "name": "stdout",
     "output_type": "stream",
     "text": [
      "{'loss': 0.2262, 'grad_norm': 11.041215896606445, 'learning_rate': 1.3333333333333334e-06, 'epoch': 2.6}\n"
     ]
    },
    {
     "name": "stderr",
     "output_type": "stream",
     "text": [
      " 93%|█████████▎| 1751/1875 [06:21<00:26,  4.67it/s]"
     ]
    },
    {
     "name": "stdout",
     "output_type": "stream",
     "text": [
      "{'loss': 0.247, 'grad_norm': 23.8407039642334, 'learning_rate': 6.666666666666667e-07, 'epoch': 2.8}\n"
     ]
    },
    {
     "name": "stderr",
     "output_type": "stream",
     "text": [
      "100%|██████████| 1875/1875 [06:47<00:00,  4.94it/s]"
     ]
    },
    {
     "name": "stdout",
     "output_type": "stream",
     "text": [
      "{'loss': 0.2419, 'grad_norm': 53.59440994262695, 'learning_rate': 0.0, 'epoch': 3.0}\n"
     ]
    },
    {
     "name": "stderr",
     "output_type": "stream",
     "text": [
      "\n",
      "100%|██████████| 1875/1875 [06:53<00:00,  4.94it/s]"
     ]
    },
    {
     "name": "stdout",
     "output_type": "stream",
     "text": [
      "{'eval_loss': 0.23989346623420715, 'eval_f1': 0.9192250216788063, 'eval_runtime': 6.3126, 'eval_samples_per_second': 158.414, 'eval_steps_per_second': 9.98, 'epoch': 3.0}\n"
     ]
    },
    {
     "name": "stderr",
     "output_type": "stream",
     "text": [
      "100%|██████████| 1875/1875 [06:54<00:00,  4.53it/s]"
     ]
    },
    {
     "name": "stdout",
     "output_type": "stream",
     "text": [
      "{'train_runtime': 414.2113, 'train_samples_per_second': 72.427, 'train_steps_per_second': 4.527, 'train_loss': 0.37891124369303386, 'epoch': 3.0}\n"
     ]
    },
    {
     "name": "stderr",
     "output_type": "stream",
     "text": [
      "\n"
     ]
    },
    {
     "data": {
      "text/plain": [
       "TrainOutput(global_step=1875, training_loss=0.37891124369303386, metrics={'train_runtime': 414.2113, 'train_samples_per_second': 72.427, 'train_steps_per_second': 4.527, 'total_flos': 7.4584635826176e+17, 'train_loss': 0.37891124369303386, 'epoch': 3.0})"
      ]
     },
     "execution_count": 19,
     "metadata": {},
     "output_type": "execute_result"
    }
   ],
   "source": [
    "import torch\n",
    "import evaluate\n",
    "import numpy as np\n",
    "from itertools import chain\n",
    "from collections import defaultdict\n",
    "from torch.utils.data import Subset\n",
    "from torchvision import datasets\n",
    "from torchvision import transforms\n",
    "from transformers import AutoImageProcessor\n",
    "from transformers import SwinForImageClassification\n",
    "from transformers import TrainingArguments, Trainer\n",
    "\n",
    "def subset_sampler(dataset, classes, max_len):\n",
    "    target_idx = defaultdict(list)\n",
    "\n",
    "    for idx, label in enumerate(dataset.train_labels):\n",
    "        target_idx[int(label)].append(idx)\n",
    "\n",
    "    indices = list(chain.from_iterable(\n",
    "            [target_idx[idx][:max_len] for idx in range(len(classes))]\n",
    "        ))\n",
    "\n",
    "    return Subset(dataset, indices)\n",
    "\n",
    "\n",
    "def model_init(classes, class_to_idx):\n",
    "\n",
    "    model = SwinForImageClassification.from_pretrained(\n",
    "        pretrained_model_name_or_path = \"microsoft/swin-tiny-patch4-window7-224\",\n",
    "        num_labels=len(classes),\n",
    "        id2label={idx: label for label, idx in class_to_idx.items()},\n",
    "        label2id=class_to_idx,\n",
    "        ignore_mismatched_sizes=True\n",
    "    )\n",
    "\n",
    "    return model\n",
    "\n",
    "\n",
    "def collator(data, transform):\n",
    "    images, labels = zip(*data)\n",
    "    pixel_values = torch.stack([transform(image) for image in images])\n",
    "    labels = torch.tensor([label for label in labels])\n",
    "\n",
    "    return {\"pixel_values\": pixel_values, \"labels\": labels}\n",
    "\n",
    "\n",
    "def compute_metrics(eval_pred):\n",
    "    metric = evaluate.load(\"f1\")\n",
    "    predictions, labels = eval_pred\n",
    "    predictions = np.argmax(predictions, axis=1)\n",
    "    macro_f1 = metric.compute(predictions=predictions, references=labels, average=\"macro\")\n",
    "\n",
    "    return macro_f1\n",
    "\n",
    "\n",
    "train_dataset = datasets.FashionMNIST(root=\"datasets\", download=True, train=True)\n",
    "test_dataset = datasets.FashionMNIST(root=\"datasets\", download=True, train=False)\n",
    "\n",
    "classes = train_dataset.classes\n",
    "class_to_idx = train_dataset.class_to_idx\n",
    "\n",
    "subset_train_dataset = subset_sampler(dataset = train_dataset, classes = train_dataset.classes, max_len = 1000)\n",
    "subset_test_dataset = subset_sampler(dataset = test_dataset, classes = test_dataset.classes, max_len = 100)\n",
    "\n",
    "image_processor = AutoImageProcessor.from_pretrained(pretrained_model_name_or_path=\"microsoft/swin-tiny-patch4-window7-224\")\n",
    "\n",
    "transform = transforms.Compose(\n",
    "    [\n",
    "        transforms.ToTensor(),\n",
    "        transforms.Resize(size = (image_processor.size[\"height\"], image_processor.size[\"width\"])),\n",
    "        transforms.Lambda(lambda x: torch.cat([x, x, x], 0)),\n",
    "        transforms.Normalize(mean = image_processor.image_mean, std = image_processor.image_std)\n",
    "    ])\n",
    "\n",
    "args = TrainingArguments(\n",
    "    output_dir = \"models/Swin-FashionMNIST\",\n",
    "    save_strategy = \"epoch\",\n",
    "    evaluation_strategy = \"epoch\",\n",
    "    learning_rate = 1e-5,\n",
    "    per_device_train_batch_size = 16,\n",
    "    per_device_eval_batch_size = 16,\n",
    "    num_train_epochs = 3,\n",
    "    weight_decay = 0.001,\n",
    "    load_best_model_at_end = True,\n",
    "    metric_for_best_model = \"f1\",\n",
    "    logging_dir = \"logs\",\n",
    "    logging_steps = 125,\n",
    "    remove_unused_columns = False,\n",
    "    seed = 7\n",
    ")\n",
    "\n",
    "trainer = Trainer(\n",
    "    model_init = lambda x: model_init(classes, class_to_idx),\n",
    "    args = args,\n",
    "    train_dataset = subset_train_dataset,\n",
    "    eval_dataset = subset_test_dataset,\n",
    "    data_collator = lambda x: collator(x, transform),\n",
    "    compute_metrics = compute_metrics,\n",
    "    tokenizer = image_processor,\n",
    ")\n",
    "\n",
    "trainer.train()"
   ]
  },
  {
   "cell_type": "code",
   "execution_count": 20,
   "metadata": {},
   "outputs": [
    {
     "name": "stderr",
     "output_type": "stream",
     "text": [
      "100%|██████████| 63/63 [00:06<00:00, 10.40it/s]\n"
     ]
    },
    {
     "name": "stdout",
     "output_type": "stream",
     "text": [
      "PredictionOutput(predictions=array([[ 8.379086  , -2.7860026 , -0.5182733 , ..., -2.5295534 ,\n",
      "         0.14569367, -1.4779958 ],\n",
      "       [ 4.5212855 , -0.39587325,  0.7643684 , ..., -1.7918379 ,\n",
      "         0.16613205, -1.8428553 ],\n",
      "       [ 7.4837685 , -2.6700394 , -0.3186532 , ..., -2.3101366 ,\n",
      "        -1.0391622 , -1.430242  ],\n",
      "       ...,\n",
      "       [-0.9966755 , -1.586576  , -1.0313174 , ...,  1.5974958 ,\n",
      "         0.59287614,  4.0700374 ],\n",
      "       [-1.9359499 , -1.5490711 , -2.2905893 , ...,  2.12482   ,\n",
      "        -3.2157373 ,  9.241158  ],\n",
      "       [-0.75259054, -0.7430928 , -2.269937  , ...,  0.108407  ,\n",
      "        -2.911671  ,  9.68466   ]], dtype=float32), label_ids=array([0, 0, 0, 0, 0, 0, 0, 0, 0, 0, 0, 0, 0, 0, 0, 0, 0, 0, 0, 0, 0, 0,\n",
      "       0, 0, 0, 0, 0, 0, 0, 0, 0, 0, 0, 0, 0, 0, 0, 0, 0, 0, 0, 0, 0, 0,\n",
      "       0, 0, 0, 0, 0, 0, 0, 0, 0, 0, 0, 0, 0, 0, 0, 0, 0, 0, 0, 0, 0, 0,\n",
      "       0, 0, 0, 0, 0, 0, 0, 0, 0, 0, 0, 0, 0, 0, 0, 0, 0, 0, 0, 0, 0, 0,\n",
      "       0, 0, 0, 0, 0, 0, 0, 0, 0, 0, 0, 0, 1, 1, 1, 1, 1, 1, 1, 1, 1, 1,\n",
      "       1, 1, 1, 1, 1, 1, 1, 1, 1, 1, 1, 1, 1, 1, 1, 1, 1, 1, 1, 1, 1, 1,\n",
      "       1, 1, 1, 1, 1, 1, 1, 1, 1, 1, 1, 1, 1, 1, 1, 1, 1, 1, 1, 1, 1, 1,\n",
      "       1, 1, 1, 1, 1, 1, 1, 1, 1, 1, 1, 1, 1, 1, 1, 1, 1, 1, 1, 1, 1, 1,\n",
      "       1, 1, 1, 1, 1, 1, 1, 1, 1, 1, 1, 1, 1, 1, 1, 1, 1, 1, 1, 1, 1, 1,\n",
      "       1, 1, 2, 2, 2, 2, 2, 2, 2, 2, 2, 2, 2, 2, 2, 2, 2, 2, 2, 2, 2, 2,\n",
      "       2, 2, 2, 2, 2, 2, 2, 2, 2, 2, 2, 2, 2, 2, 2, 2, 2, 2, 2, 2, 2, 2,\n",
      "       2, 2, 2, 2, 2, 2, 2, 2, 2, 2, 2, 2, 2, 2, 2, 2, 2, 2, 2, 2, 2, 2,\n",
      "       2, 2, 2, 2, 2, 2, 2, 2, 2, 2, 2, 2, 2, 2, 2, 2, 2, 2, 2, 2, 2, 2,\n",
      "       2, 2, 2, 2, 2, 2, 2, 2, 2, 2, 2, 2, 2, 2, 3, 3, 3, 3, 3, 3, 3, 3,\n",
      "       3, 3, 3, 3, 3, 3, 3, 3, 3, 3, 3, 3, 3, 3, 3, 3, 3, 3, 3, 3, 3, 3,\n",
      "       3, 3, 3, 3, 3, 3, 3, 3, 3, 3, 3, 3, 3, 3, 3, 3, 3, 3, 3, 3, 3, 3,\n",
      "       3, 3, 3, 3, 3, 3, 3, 3, 3, 3, 3, 3, 3, 3, 3, 3, 3, 3, 3, 3, 3, 3,\n",
      "       3, 3, 3, 3, 3, 3, 3, 3, 3, 3, 3, 3, 3, 3, 3, 3, 3, 3, 3, 3, 3, 3,\n",
      "       3, 3, 3, 3, 4, 4, 4, 4, 4, 4, 4, 4, 4, 4, 4, 4, 4, 4, 4, 4, 4, 4,\n",
      "       4, 4, 4, 4, 4, 4, 4, 4, 4, 4, 4, 4, 4, 4, 4, 4, 4, 4, 4, 4, 4, 4,\n",
      "       4, 4, 4, 4, 4, 4, 4, 4, 4, 4, 4, 4, 4, 4, 4, 4, 4, 4, 4, 4, 4, 4,\n",
      "       4, 4, 4, 4, 4, 4, 4, 4, 4, 4, 4, 4, 4, 4, 4, 4, 4, 4, 4, 4, 4, 4,\n",
      "       4, 4, 4, 4, 4, 4, 4, 4, 4, 4, 4, 4, 4, 4, 4, 4, 5, 5, 5, 5, 5, 5,\n",
      "       5, 5, 5, 5, 5, 5, 5, 5, 5, 5, 5, 5, 5, 5, 5, 5, 5, 5, 5, 5, 5, 5,\n",
      "       5, 5, 5, 5, 5, 5, 5, 5, 5, 5, 5, 5, 5, 5, 5, 5, 5, 5, 5, 5, 5, 5,\n",
      "       5, 5, 5, 5, 5, 5, 5, 5, 5, 5, 5, 5, 5, 5, 5, 5, 5, 5, 5, 5, 5, 5,\n",
      "       5, 5, 5, 5, 5, 5, 5, 5, 5, 5, 5, 5, 5, 5, 5, 5, 5, 5, 5, 5, 5, 5,\n",
      "       5, 5, 5, 5, 5, 5, 6, 6, 6, 6, 6, 6, 6, 6, 6, 6, 6, 6, 6, 6, 6, 6,\n",
      "       6, 6, 6, 6, 6, 6, 6, 6, 6, 6, 6, 6, 6, 6, 6, 6, 6, 6, 6, 6, 6, 6,\n",
      "       6, 6, 6, 6, 6, 6, 6, 6, 6, 6, 6, 6, 6, 6, 6, 6, 6, 6, 6, 6, 6, 6,\n",
      "       6, 6, 6, 6, 6, 6, 6, 6, 6, 6, 6, 6, 6, 6, 6, 6, 6, 6, 6, 6, 6, 6,\n",
      "       6, 6, 6, 6, 6, 6, 6, 6, 6, 6, 6, 6, 6, 6, 6, 6, 6, 6, 7, 7, 7, 7,\n",
      "       7, 7, 7, 7, 7, 7, 7, 7, 7, 7, 7, 7, 7, 7, 7, 7, 7, 7, 7, 7, 7, 7,\n",
      "       7, 7, 7, 7, 7, 7, 7, 7, 7, 7, 7, 7, 7, 7, 7, 7, 7, 7, 7, 7, 7, 7,\n",
      "       7, 7, 7, 7, 7, 7, 7, 7, 7, 7, 7, 7, 7, 7, 7, 7, 7, 7, 7, 7, 7, 7,\n",
      "       7, 7, 7, 7, 7, 7, 7, 7, 7, 7, 7, 7, 7, 7, 7, 7, 7, 7, 7, 7, 7, 7,\n",
      "       7, 7, 7, 7, 7, 7, 7, 7, 8, 8, 8, 8, 8, 8, 8, 8, 8, 8, 8, 8, 8, 8,\n",
      "       8, 8, 8, 8, 8, 8, 8, 8, 8, 8, 8, 8, 8, 8, 8, 8, 8, 8, 8, 8, 8, 8,\n",
      "       8, 8, 8, 8, 8, 8, 8, 8, 8, 8, 8, 8, 8, 8, 8, 8, 8, 8, 8, 8, 8, 8,\n",
      "       8, 8, 8, 8, 8, 8, 8, 8, 8, 8, 8, 8, 8, 8, 8, 8, 8, 8, 8, 8, 8, 8,\n",
      "       8, 8, 8, 8, 8, 8, 8, 8, 8, 8, 8, 8, 8, 8, 8, 8, 8, 8, 8, 8, 9, 9,\n",
      "       9, 9, 9, 9, 9, 9, 9, 9, 9, 9, 9, 9, 9, 9, 9, 9, 9, 9, 9, 9, 9, 9,\n",
      "       9, 9, 9, 9, 9, 9, 9, 9, 9, 9, 9, 9, 9, 9, 9, 9, 9, 9, 9, 9, 9, 9,\n",
      "       9, 9, 9, 9, 9, 9, 9, 9, 9, 9, 9, 9, 9, 9, 9, 9, 9, 9, 9, 9, 9, 9,\n",
      "       9, 9, 9, 9, 9, 9, 9, 9, 9, 9, 9, 9, 9, 9, 9, 9, 9, 9, 9, 9, 9, 9,\n",
      "       9, 9, 9, 9, 9, 9, 9, 9, 9, 9], dtype=int64), metrics={'test_loss': 0.23989346623420715, 'test_f1': 0.9192250216788063, 'test_runtime': 6.1758, 'test_samples_per_second': 161.922, 'test_steps_per_second': 10.201})\n"
     ]
    },
    {
     "data": {
      "image/png": "[encoded data removed]",
      "text/plain": [
       "<Figure size 1000x1000 with 2 Axes>"
      ]
     },
     "metadata": {},
     "output_type": "display_data"
    }
   ],
   "source": [
    "import matplotlib.pyplot as plt\n",
    "from sklearn.metrics import confusion_matrix, ConfusionMatrixDisplay\n",
    "\n",
    "outputs = trainer.predict(subset_test_dataset)\n",
    "print(outputs)\n",
    "\n",
    "y_true = outputs.label_ids\n",
    "y_pred = outputs.predictions.argmax(1)\n",
    "\n",
    "labels = list(classes)\n",
    "matrix = confusion_matrix(y_true, y_pred)\n",
    "display = ConfusionMatrixDisplay(confusion_matrix = matrix, display_labels = labels)\n",
    "_, ax = plt.subplots(figsize = (10, 10))\n",
    "display.plot(xticks_rotation = 45, ax=ax)\n",
    "plt.show()"
   ]
  },
  {
   "cell_type": "code",
   "execution_count": 21,
   "metadata": {},
   "outputs": [
    {
     "name": "stderr",
     "output_type": "stream",
     "text": [
      "c:\\Users\\user\\anaconda3\\envs\\testing_torch\\lib\\site-packages\\torchvision\\datasets\\mnist.py:66: UserWarning: train_labels has been renamed targets\n",
      "  warnings.warn(\"train_labels has been renamed targets\")\n"
     ]
    }
   ],
   "source": [
    "from itertools import chain\n",
    "from collections import defaultdict\n",
    "from torch.utils.data import Subset\n",
    "from torchvision import datasets\n",
    "\n",
    "def subset_sampler(dataset, classes, max_len):\n",
    "    target_idx = defaultdict(list)\n",
    "\n",
    "    for idx, label in enumerate(dataset.train_labels):\n",
    "        target_idx[int(label)].append(idx)\n",
    "\n",
    "    indices = list(chain.from_iterable(\n",
    "            [target_idx[idx][ : max_len] for idx in range(len(classes))]\n",
    "        ))\n",
    "\n",
    "    return Subset(dataset, indices)\n",
    "\n",
    "\n",
    "train_dataset = datasets.FashionMNIST(root = \"datasets\", download = True, train = True)\n",
    "test_dataset = datasets.FashionMNIST(root = \"datasets\", download = True, train = False)\n",
    "\n",
    "classes = train_dataset.classes\n",
    "class_to_idx = train_dataset.class_to_idx\n",
    "\n",
    "subset_train_dataset = subset_sampler(dataset = train_dataset, classes = train_dataset.classes, max_len = 1000)\n",
    "subset_test_dataset = subset_sampler(dataset = test_dataset, classes = test_dataset.classes, max_len = 100)"
   ]
  },
  {
   "cell_type": "code",
   "execution_count": 22,
   "metadata": {},
   "outputs": [],
   "source": [
    "import torch\n",
    "from torchvision import transforms\n",
    "from transformers import AutoImageProcessor\n",
    "\n",
    "image_processor = AutoImageProcessor.from_pretrained(pretrained_model_name_or_path = \"microsoft/cvt-21\")\n",
    "\n",
    "transform = transforms.Compose(\n",
    "    [\n",
    "        transforms.ToTensor(),\n",
    "        transforms.Resize(size = (image_processor.size[\"shortest_edge\"], image_processor.size[\"shortest_edge\"])),\n",
    "        transforms.Lambda(lambda x: torch.cat([x, x, x], 0)),\n",
    "        transforms.Normalize(mean = image_processor.image_mean, std = image_processor.image_std)\n",
    "    ])"
   ]
  },
  {
   "cell_type": "code",
   "execution_count": 23,
   "metadata": {},
   "outputs": [],
   "source": [
    "from torch.utils.data import DataLoader\n",
    "\n",
    "def collator(data, transform):\n",
    "    images, labels = zip(*data)\n",
    "    pixel_values = torch.stack([transform(image) for image in images])\n",
    "    labels = torch.tensor([label for label in labels])\n",
    "\n",
    "    return {\"pixel_values\": pixel_values, \"labels\": labels}\n",
    "\n",
    "\n",
    "train_dataloader = DataLoader(\n",
    "    subset_train_dataset,\n",
    "    batch_size = 32,\n",
    "    shuffle = True,\n",
    "    collate_fn = lambda x: collator(x, transform),\n",
    "    drop_last = True\n",
    ")\n",
    "\n",
    "valid_dataloader = DataLoader(\n",
    "    subset_test_dataset,\n",
    "    batch_size = 4,\n",
    "    shuffle = True,\n",
    "    collate_fn = lambda x: collator(x, transform),\n",
    "    drop_last = True\n",
    ")"
   ]
  },
  {
   "cell_type": "code",
   "execution_count": 24,
   "metadata": {},
   "outputs": [
    {
     "name": "stderr",
     "output_type": "stream",
     "text": [
      "Some weights of CvtForImageClassification were not initialized from the model checkpoint at microsoft/cvt-21 and are newly initialized because the shapes did not match:\n",
      "- classifier.weight: found shape torch.Size([1000, 384]) in the checkpoint and torch.Size([10, 384]) in the model instantiated\n",
      "- classifier.bias: found shape torch.Size([1000]) in the checkpoint and torch.Size([10]) in the model instantiated\n",
      "You should probably TRAIN this model on a down-stream task to be able to use it for predictions and inference.\n"
     ]
    },
    {
     "name": "stdout",
     "output_type": "stream",
     "text": [
      "cvt\n",
      "└ encoder\n",
      "    └ stages\n",
      "        └ 0\n",
      "        └ 1\n",
      "        └ 2\n",
      "layernorm\n",
      "classifier\n"
     ]
    }
   ],
   "source": [
    "from transformers import CvtForImageClassification\n",
    "\n",
    "model = CvtForImageClassification.from_pretrained(\n",
    "    pretrained_model_name_or_path=\"microsoft/cvt-21\",\n",
    "    num_labels = len(train_dataset.classes),\n",
    "    id2label = {idx: label for label, idx in train_dataset.class_to_idx.items()}, \n",
    "    label2id = train_dataset.class_to_idx,\n",
    "    ignore_mismatched_sizes = True\n",
    "    )\n",
    "\n",
    "for main_name, main_module in model.named_children():\n",
    "    print(main_name)\n",
    "\n",
    "    for sub_name, sub_module in main_module.named_children():\n",
    "        print(\"└\", sub_name)\n",
    "\n",
    "        for ssub_name, ssub_module in sub_module.named_children() :\n",
    "            print(\"    └\", ssub_name)\n",
    "            \n",
    "            for sssub_name, sssub_module in ssub_module.named_children():\n",
    "                print(\"        └\", sssub_name)"
   ]
  },
  {
   "cell_type": "code",
   "execution_count": 25,
   "metadata": {},
   "outputs": [
    {
     "name": "stdout",
     "output_type": "stream",
     "text": [
      "CvtStage(\n",
      "  (embedding): CvtEmbeddings(\n",
      "    (convolution_embeddings): CvtConvEmbeddings(\n",
      "      (projection): Conv2d(3, 64, kernel_size=(7, 7), stride=(4, 4), padding=(2, 2))\n",
      "      (normalization): LayerNorm((64,), eps=1e-05, elementwise_affine=True)\n",
      "    )\n",
      "    (dropout): Dropout(p=0.0, inplace=False)\n",
      "  )\n",
      "  (layers): Sequential(\n",
      "    (0): CvtLayer(\n",
      "      (attention): CvtAttention(\n",
      "        (attention): CvtSelfAttention(\n",
      "          (convolution_projection_query): CvtSelfAttentionProjection(\n",
      "            (convolution_projection): CvtSelfAttentionConvProjection(\n",
      "              (convolution): Conv2d(64, 64, kernel_size=(3, 3), stride=(1, 1), padding=(1, 1), groups=64, bias=False)\n",
      "              (normalization): BatchNorm2d(64, eps=1e-05, momentum=0.1, affine=True, track_running_stats=True)\n",
      "            )\n",
      "            (linear_projection): CvtSelfAttentionLinearProjection()\n",
      "          )\n",
      "          (convolution_projection_key): CvtSelfAttentionProjection(\n",
      "            (convolution_projection): CvtSelfAttentionConvProjection(\n",
      "              (convolution): Conv2d(64, 64, kernel_size=(3, 3), stride=(2, 2), padding=(1, 1), groups=64, bias=False)\n",
      "              (normalization): BatchNorm2d(64, eps=1e-05, momentum=0.1, affine=True, track_running_stats=True)\n",
      "            )\n",
      "            (linear_projection): CvtSelfAttentionLinearProjection()\n",
      "          )\n",
      "          (convolution_projection_value): CvtSelfAttentionProjection(\n",
      "            (convolution_projection): CvtSelfAttentionConvProjection(\n",
      "              (convolution): Conv2d(64, 64, kernel_size=(3, 3), stride=(2, 2), padding=(1, 1), groups=64, bias=False)\n",
      "              (normalization): BatchNorm2d(64, eps=1e-05, momentum=0.1, affine=True, track_running_stats=True)\n",
      "            )\n",
      "            (linear_projection): CvtSelfAttentionLinearProjection()\n",
      "          )\n",
      "          (projection_query): Linear(in_features=64, out_features=64, bias=True)\n",
      "          (projection_key): Linear(in_features=64, out_features=64, bias=True)\n",
      "          (projection_value): Linear(in_features=64, out_features=64, bias=True)\n",
      "          (dropout): Dropout(p=0.0, inplace=False)\n",
      "        )\n",
      "        (output): CvtSelfOutput(\n",
      "          (dense): Linear(in_features=64, out_features=64, bias=True)\n",
      "          (dropout): Dropout(p=0.0, inplace=False)\n",
      "        )\n",
      "      )\n",
      "      (intermediate): CvtIntermediate(\n",
      "        (dense): Linear(in_features=64, out_features=256, bias=True)\n",
      "        (activation): GELU(approximate='none')\n",
      "      )\n",
      "      (output): CvtOutput(\n",
      "        (dense): Linear(in_features=256, out_features=64, bias=True)\n",
      "        (dropout): Dropout(p=0.0, inplace=False)\n",
      "      )\n",
      "      (drop_path): Identity()\n",
      "      (layernorm_before): LayerNorm((64,), eps=1e-05, elementwise_affine=True)\n",
      "      (layernorm_after): LayerNorm((64,), eps=1e-05, elementwise_affine=True)\n",
      "    )\n",
      "  )\n",
      ")\n"
     ]
    }
   ],
   "source": [
    "stages= model.cvt.encoder.stages\n",
    "\n",
    "print(stages[0])"
   ]
  },
  {
   "cell_type": "code",
   "execution_count": 26,
   "metadata": {},
   "outputs": [
    {
     "name": "stdout",
     "output_type": "stream",
     "text": [
      "이미지 차원:  torch.Size([32, 3, 224, 224])\n",
      "패치 임베딩 차원:  torch.Size([32, 64, 56, 56])\n",
      "셀프 어텐션 입력 차원:  torch.Size([32, 3136, 64])\n",
      "셀프 엍네션 출력 차원:  torch.Size([32, 3136, 64])\n"
     ]
    }
   ],
   "source": [
    "batch = next(iter(train_dataloader))\n",
    "print(\"이미지 차원: \", batch[\"pixel_values\"].shape)\n",
    "\n",
    "patch_emb_output = stages[0].embedding(batch[\"pixel_values\"])\n",
    "print(\"패치 임베딩 차원: \", patch_emb_output.shape)\n",
    "\n",
    "batch_size, num_channels, height, width = patch_emb_output.shape\n",
    "hidden_state = patch_emb_output.view(batch_size, num_channels, height * width).permute(0, 2, 1)\n",
    "print(\"셀프 어텐션 입력 차원: \", hidden_state.shape)\n",
    "\n",
    "attention_output = stages[0].layers[0].attention(hidden_state, height, width)\n",
    "print(\"셀프 엍네션 출력 차원: \", attention_output.shape)"
   ]
  },
  {
   "cell_type": "code",
   "execution_count": 27,
   "metadata": {},
   "outputs": [
    {
     "name": "stderr",
     "output_type": "stream",
     "text": [
      "c:\\Users\\user\\anaconda3\\envs\\testing_torch\\lib\\site-packages\\transformers\\training_args.py:1525: FutureWarning: `evaluation_strategy` is deprecated and will be removed in version 4.46 of 🤗 Transformers. Use `eval_strategy` instead\n",
      "  warnings.warn(\n",
      "Some weights of CvtForImageClassification were not initialized from the model checkpoint at microsoft/cvt-21 and are newly initialized because the shapes did not match:\n",
      "- classifier.weight: found shape torch.Size([1000, 384]) in the checkpoint and torch.Size([10, 384]) in the model instantiated\n",
      "- classifier.bias: found shape torch.Size([1000]) in the checkpoint and torch.Size([10]) in the model instantiated\n",
      "You should probably TRAIN this model on a down-stream task to be able to use it for predictions and inference.\n",
      "Some weights of CvtForImageClassification were not initialized from the model checkpoint at microsoft/cvt-21 and are newly initialized because the shapes did not match:\n",
      "- classifier.weight: found shape torch.Size([1000, 384]) in the checkpoint and torch.Size([10, 384]) in the model instantiated\n",
      "- classifier.bias: found shape torch.Size([1000]) in the checkpoint and torch.Size([10]) in the model instantiated\n",
      "You should probably TRAIN this model on a down-stream task to be able to use it for predictions and inference.\n",
      "  7%|▋         | 125/1875 [01:01<14:17,  2.04it/s]"
     ]
    },
    {
     "name": "stdout",
     "output_type": "stream",
     "text": [
      "{'loss': 1.5205, 'grad_norm': 210.81832885742188, 'learning_rate': 9.333333333333334e-06, 'epoch': 0.2}\n"
     ]
    },
    {
     "name": "stderr",
     "output_type": "stream",
     "text": [
      " 13%|█▎        | 250/1875 [02:03<13:14,  2.05it/s]"
     ]
    },
    {
     "name": "stdout",
     "output_type": "stream",
     "text": [
      "{'loss': 1.0157, 'grad_norm': 91.60320281982422, 'learning_rate': 8.666666666666668e-06, 'epoch': 0.4}\n"
     ]
    },
    {
     "name": "stderr",
     "output_type": "stream",
     "text": [
      " 20%|██        | 375/1875 [03:05<12:03,  2.07it/s]"
     ]
    },
    {
     "name": "stdout",
     "output_type": "stream",
     "text": [
      "{'loss': 0.8332, 'grad_norm': 71.37751770019531, 'learning_rate': 8.000000000000001e-06, 'epoch': 0.6}\n"
     ]
    },
    {
     "name": "stderr",
     "output_type": "stream",
     "text": [
      " 27%|██▋       | 500/1875 [04:05<11:06,  2.06it/s]"
     ]
    },
    {
     "name": "stdout",
     "output_type": "stream",
     "text": [
      "{'loss': 0.846, 'grad_norm': 115.59441375732422, 'learning_rate': 7.333333333333333e-06, 'epoch': 0.8}\n"
     ]
    },
    {
     "name": "stderr",
     "output_type": "stream",
     "text": [
      " 33%|███▎      | 625/1875 [05:06<10:03,  2.07it/s]"
     ]
    },
    {
     "name": "stdout",
     "output_type": "stream",
     "text": [
      "{'loss': 0.8175, 'grad_norm': 153.29408264160156, 'learning_rate': 6.666666666666667e-06, 'epoch': 1.0}\n"
     ]
    },
    {
     "name": "stderr",
     "output_type": "stream",
     "text": [
      "\n",
      " 33%|███▎      | 625/1875 [05:14<10:03,  2.07it/s]"
     ]
    },
    {
     "name": "stdout",
     "output_type": "stream",
     "text": [
      "{'eval_loss': 0.32550880312919617, 'eval_f1': 0.8922698352665014, 'eval_runtime': 7.9062, 'eval_samples_per_second': 126.483, 'eval_steps_per_second': 7.968, 'epoch': 1.0}\n"
     ]
    },
    {
     "name": "stderr",
     "output_type": "stream",
     "text": [
      " 40%|████      | 750/1875 [06:15<09:04,  2.07it/s]  "
     ]
    },
    {
     "name": "stdout",
     "output_type": "stream",
     "text": [
      "{'loss': 0.7442, 'grad_norm': 59.627769470214844, 'learning_rate': 6e-06, 'epoch': 1.2}\n"
     ]
    },
    {
     "name": "stderr",
     "output_type": "stream",
     "text": [
      " 47%|████▋     | 875/1875 [07:16<08:04,  2.06it/s]"
     ]
    },
    {
     "name": "stdout",
     "output_type": "stream",
     "text": [
      "{'loss': 0.723, 'grad_norm': 56.7312126159668, 'learning_rate': 5.333333333333334e-06, 'epoch': 1.4}\n"
     ]
    },
    {
     "name": "stderr",
     "output_type": "stream",
     "text": [
      " 53%|█████▎    | 1000/1875 [08:16<07:03,  2.06it/s]"
     ]
    },
    {
     "name": "stdout",
     "output_type": "stream",
     "text": [
      "{'loss': 0.7272, 'grad_norm': 18.48580551147461, 'learning_rate': 4.666666666666667e-06, 'epoch': 1.6}\n"
     ]
    },
    {
     "name": "stderr",
     "output_type": "stream",
     "text": [
      " 60%|██████    | 1125/1875 [09:17<06:04,  2.06it/s]"
     ]
    },
    {
     "name": "stdout",
     "output_type": "stream",
     "text": [
      "{'loss': 0.7101, 'grad_norm': 63.97568893432617, 'learning_rate': 4.000000000000001e-06, 'epoch': 1.8}\n"
     ]
    },
    {
     "name": "stderr",
     "output_type": "stream",
     "text": [
      " 67%|██████▋   | 1250/1875 [10:17<05:01,  2.07it/s]"
     ]
    },
    {
     "name": "stdout",
     "output_type": "stream",
     "text": [
      "{'loss': 0.6881, 'grad_norm': 21.293968200683594, 'learning_rate': 3.3333333333333333e-06, 'epoch': 2.0}\n"
     ]
    },
    {
     "name": "stderr",
     "output_type": "stream",
     "text": [
      "\n",
      " 67%|██████▋   | 1250/1875 [10:25<05:01,  2.07it/s]"
     ]
    },
    {
     "name": "stdout",
     "output_type": "stream",
     "text": [
      "{'eval_loss': 0.27602118253707886, 'eval_f1': 0.9218285142201117, 'eval_runtime': 7.5308, 'eval_samples_per_second': 132.788, 'eval_steps_per_second': 8.366, 'epoch': 2.0}\n"
     ]
    },
    {
     "name": "stderr",
     "output_type": "stream",
     "text": [
      " 73%|███████▎  | 1375/1875 [11:26<04:02,  2.06it/s]"
     ]
    },
    {
     "name": "stdout",
     "output_type": "stream",
     "text": [
      "{'loss': 0.6606, 'grad_norm': 49.680667877197266, 'learning_rate': 2.666666666666667e-06, 'epoch': 2.2}\n"
     ]
    },
    {
     "name": "stderr",
     "output_type": "stream",
     "text": [
      " 80%|████████  | 1500/1875 [12:27<03:01,  2.07it/s]"
     ]
    },
    {
     "name": "stdout",
     "output_type": "stream",
     "text": [
      "{'loss': 0.6565, 'grad_norm': 87.05001068115234, 'learning_rate': 2.0000000000000003e-06, 'epoch': 2.4}\n"
     ]
    },
    {
     "name": "stderr",
     "output_type": "stream",
     "text": [
      " 87%|████████▋ | 1625/1875 [13:27<02:01,  2.06it/s]"
     ]
    },
    {
     "name": "stdout",
     "output_type": "stream",
     "text": [
      "{'loss': 0.6551, 'grad_norm': 38.52096176147461, 'learning_rate': 1.3333333333333334e-06, 'epoch': 2.6}\n"
     ]
    },
    {
     "name": "stderr",
     "output_type": "stream",
     "text": [
      " 93%|█████████▎| 1750/1875 [14:28<01:00,  2.07it/s]"
     ]
    },
    {
     "name": "stdout",
     "output_type": "stream",
     "text": [
      "{'loss': 0.672, 'grad_norm': 76.81236267089844, 'learning_rate': 6.666666666666667e-07, 'epoch': 2.8}\n"
     ]
    },
    {
     "name": "stderr",
     "output_type": "stream",
     "text": [
      "100%|██████████| 1875/1875 [15:28<00:00,  2.07it/s]"
     ]
    },
    {
     "name": "stdout",
     "output_type": "stream",
     "text": [
      "{'loss': 0.6718, 'grad_norm': 54.92367935180664, 'learning_rate': 0.0, 'epoch': 3.0}\n"
     ]
    },
    {
     "name": "stderr",
     "output_type": "stream",
     "text": [
      "\n",
      "100%|██████████| 1875/1875 [15:36<00:00,  2.07it/s]"
     ]
    },
    {
     "name": "stdout",
     "output_type": "stream",
     "text": [
      "{'eval_loss': 0.2516321837902069, 'eval_f1': 0.9320645000866975, 'eval_runtime': 7.5673, 'eval_samples_per_second': 132.147, 'eval_steps_per_second': 8.325, 'epoch': 3.0}\n"
     ]
    },
    {
     "name": "stderr",
     "output_type": "stream",
     "text": [
      "100%|██████████| 1875/1875 [15:37<00:00,  2.00it/s]"
     ]
    },
    {
     "name": "stdout",
     "output_type": "stream",
     "text": [
      "{'train_runtime': 937.2479, 'train_samples_per_second': 32.009, 'train_steps_per_second': 2.001, 'train_loss': 0.7960986612955729, 'epoch': 3.0}\n"
     ]
    },
    {
     "name": "stderr",
     "output_type": "stream",
     "text": [
      "\n"
     ]
    },
    {
     "data": {
      "text/plain": [
       "TrainOutput(global_step=1875, training_loss=0.7960986612955729, metrics={'train_runtime': 937.2479, 'train_samples_per_second': 32.009, 'train_steps_per_second': 2.001, 'total_flos': 8.4649093853184e+17, 'train_loss': 0.7960986612955729, 'epoch': 3.0})"
      ]
     },
     "execution_count": 27,
     "metadata": {},
     "output_type": "execute_result"
    }
   ],
   "source": [
    "import torch\n",
    "import evaluate\n",
    "import numpy as np\n",
    "from itertools import chain\n",
    "from collections import defaultdict\n",
    "from torch.utils.data import Subset\n",
    "from torchvision import datasets\n",
    "from torchvision import transforms\n",
    "from transformers import AutoImageProcessor\n",
    "from transformers import CvtForImageClassification\n",
    "from transformers import TrainingArguments, Trainer\n",
    "\n",
    "def subset_sampler(dataset, classes, max_len):\n",
    "    target_idx = defaultdict(list)\n",
    "\n",
    "    for idx, label in enumerate(dataset.train_labels):\n",
    "        target_idx[int(label)].append(idx)\n",
    "\n",
    "    indices = list(chain.from_iterable(\n",
    "            [target_idx[idx][:max_len] for idx in range(len(classes))]\n",
    "        ))\n",
    "\n",
    "    return Subset(dataset, indices)\n",
    "\n",
    "\n",
    "def model_init(classes, class_to_idx):\n",
    "    model = CvtForImageClassification.from_pretrained(\n",
    "        pretrained_model_name_or_path = \"microsoft/cvt-21\",\n",
    "        num_labels = len(classes),\n",
    "        id2label = {idx: label for label, idx in class_to_idx.items()},\n",
    "        label2id = class_to_idx,\n",
    "        ignore_mismatched_sizes = True\n",
    "    )\n",
    "\n",
    "    return model\n",
    "\n",
    "\n",
    "def collator(data, transform):\n",
    "    images, labels = zip(*data)\n",
    "    pixel_values = torch.stack([transform(image) for image in images])\n",
    "    labels = torch.tensor([label for label in labels])\n",
    "\n",
    "    return {\"pixel_values\": pixel_values, \"labels\": labels}\n",
    "\n",
    "\n",
    "def compute_metrics(eval_pred):\n",
    "    metric = evaluate.load(\"f1\")\n",
    "    predictions, labels = eval_pred\n",
    "    predictions = np.argmax(predictions, axis=1)\n",
    "    macro_f1 = metric.compute(predictions = predictions, references = labels, average = \"macro\")\n",
    "\n",
    "    return macro_f1\n",
    "\n",
    "\n",
    "train_dataset = datasets.FashionMNIST(root = \"datasets\", download = True, train = True)\n",
    "test_dataset = datasets.FashionMNIST(root = \"datasets\", download = True, train = False)\n",
    "\n",
    "classes = train_dataset.classes\n",
    "class_to_idx = train_dataset.class_to_idx\n",
    "\n",
    "subset_train_dataset = subset_sampler(dataset = train_dataset, classes = train_dataset.classes, max_len = 1000)\n",
    "subset_test_dataset = subset_sampler(dataset = test_dataset, classes = test_dataset.classes, max_len = 100)\n",
    "\n",
    "image_processor = AutoImageProcessor.from_pretrained(pretrained_model_name_or_path = \"microsoft/cvt-21\")\n",
    "\n",
    "transform = transforms.Compose(\n",
    "    [\n",
    "        transforms.ToTensor(),\n",
    "        transforms.Resize(size = (image_processor.size[\"shortest_edge\"], image_processor.size[\"shortest_edge\"])),\n",
    "        transforms.Lambda(lambda x: torch.cat([x, x, x], 0)),\n",
    "        transforms.Normalize(mean = image_processor.image_mean, std = image_processor.image_std)\n",
    "    ]\n",
    ")\n",
    "\n",
    "args = TrainingArguments(\n",
    "    output_dir = \"models/CvT-FashionMNIST\",\n",
    "    save_strategy = \"epoch\",\n",
    "    evaluation_strategy = \"epoch\",\n",
    "    learning_rate = 1e-5,\n",
    "    per_device_train_batch_size = 16,\n",
    "    per_device_eval_batch_size = 16,\n",
    "    num_train_epochs = 3,\n",
    "    weight_decay = 0.001,\n",
    "    load_best_model_at_end = True,\n",
    "    metric_for_best_model = \"f1\",\n",
    "    logging_dir = \"logs\",\n",
    "    logging_steps = 125,\n",
    "    remove_unused_columns = False,\n",
    "    seed = 7\n",
    ")\n",
    "\n",
    "trainer = Trainer(\n",
    "    model_init = lambda x: model_init(classes, class_to_idx),\n",
    "    args = args,\n",
    "    train_dataset = subset_train_dataset,\n",
    "    eval_dataset = subset_test_dataset,\n",
    "    data_collator = lambda x: collator(x, transform),\n",
    "    compute_metrics = compute_metrics,\n",
    "    tokenizer = image_processor,\n",
    ")\n",
    "trainer.train()"
   ]
  },
  {
   "cell_type": "code",
   "execution_count": 28,
   "metadata": {},
   "outputs": [
    {
     "name": "stderr",
     "output_type": "stream",
     "text": [
      "100%|██████████| 63/63 [00:07<00:00,  8.38it/s]\n"
     ]
    },
    {
     "name": "stdout",
     "output_type": "stream",
     "text": [
      "PredictionOutput(predictions=array([[ 6.6579556 , -2.0375261 , -0.46026883, ..., -1.0125827 ,\n",
      "        -1.4368243 , -0.9266156 ],\n",
      "       [ 4.3954206 , -1.2897198 , -0.81294924, ..., -1.2290666 ,\n",
      "        -1.5349174 , -0.6520933 ],\n",
      "       [ 6.5133405 , -2.4679306 ,  0.09358825, ..., -1.0467659 ,\n",
      "        -1.0838958 , -0.7262879 ],\n",
      "       ...,\n",
      "       [-1.5020278 , -0.454062  , -0.5160025 , ...,  2.9900007 ,\n",
      "         0.33844244,  5.37214   ],\n",
      "       [-0.85780704, -0.11380111, -0.3910891 , ...,  2.3501866 ,\n",
      "        -1.4756685 ,  7.0708175 ],\n",
      "       [-0.60914207, -0.25461543, -0.5938953 , ...,  0.39213622,\n",
      "        -1.1761999 ,  7.4013605 ]], dtype=float32), label_ids=array([0, 0, 0, 0, 0, 0, 0, 0, 0, 0, 0, 0, 0, 0, 0, 0, 0, 0, 0, 0, 0, 0,\n",
      "       0, 0, 0, 0, 0, 0, 0, 0, 0, 0, 0, 0, 0, 0, 0, 0, 0, 0, 0, 0, 0, 0,\n",
      "       0, 0, 0, 0, 0, 0, 0, 0, 0, 0, 0, 0, 0, 0, 0, 0, 0, 0, 0, 0, 0, 0,\n",
      "       0, 0, 0, 0, 0, 0, 0, 0, 0, 0, 0, 0, 0, 0, 0, 0, 0, 0, 0, 0, 0, 0,\n",
      "       0, 0, 0, 0, 0, 0, 0, 0, 0, 0, 0, 0, 1, 1, 1, 1, 1, 1, 1, 1, 1, 1,\n",
      "       1, 1, 1, 1, 1, 1, 1, 1, 1, 1, 1, 1, 1, 1, 1, 1, 1, 1, 1, 1, 1, 1,\n",
      "       1, 1, 1, 1, 1, 1, 1, 1, 1, 1, 1, 1, 1, 1, 1, 1, 1, 1, 1, 1, 1, 1,\n",
      "       1, 1, 1, 1, 1, 1, 1, 1, 1, 1, 1, 1, 1, 1, 1, 1, 1, 1, 1, 1, 1, 1,\n",
      "       1, 1, 1, 1, 1, 1, 1, 1, 1, 1, 1, 1, 1, 1, 1, 1, 1, 1, 1, 1, 1, 1,\n",
      "       1, 1, 2, 2, 2, 2, 2, 2, 2, 2, 2, 2, 2, 2, 2, 2, 2, 2, 2, 2, 2, 2,\n",
      "       2, 2, 2, 2, 2, 2, 2, 2, 2, 2, 2, 2, 2, 2, 2, 2, 2, 2, 2, 2, 2, 2,\n",
      "       2, 2, 2, 2, 2, 2, 2, 2, 2, 2, 2, 2, 2, 2, 2, 2, 2, 2, 2, 2, 2, 2,\n",
      "       2, 2, 2, 2, 2, 2, 2, 2, 2, 2, 2, 2, 2, 2, 2, 2, 2, 2, 2, 2, 2, 2,\n",
      "       2, 2, 2, 2, 2, 2, 2, 2, 2, 2, 2, 2, 2, 2, 3, 3, 3, 3, 3, 3, 3, 3,\n",
      "       3, 3, 3, 3, 3, 3, 3, 3, 3, 3, 3, 3, 3, 3, 3, 3, 3, 3, 3, 3, 3, 3,\n",
      "       3, 3, 3, 3, 3, 3, 3, 3, 3, 3, 3, 3, 3, 3, 3, 3, 3, 3, 3, 3, 3, 3,\n",
      "       3, 3, 3, 3, 3, 3, 3, 3, 3, 3, 3, 3, 3, 3, 3, 3, 3, 3, 3, 3, 3, 3,\n",
      "       3, 3, 3, 3, 3, 3, 3, 3, 3, 3, 3, 3, 3, 3, 3, 3, 3, 3, 3, 3, 3, 3,\n",
      "       3, 3, 3, 3, 4, 4, 4, 4, 4, 4, 4, 4, 4, 4, 4, 4, 4, 4, 4, 4, 4, 4,\n",
      "       4, 4, 4, 4, 4, 4, 4, 4, 4, 4, 4, 4, 4, 4, 4, 4, 4, 4, 4, 4, 4, 4,\n",
      "       4, 4, 4, 4, 4, 4, 4, 4, 4, 4, 4, 4, 4, 4, 4, 4, 4, 4, 4, 4, 4, 4,\n",
      "       4, 4, 4, 4, 4, 4, 4, 4, 4, 4, 4, 4, 4, 4, 4, 4, 4, 4, 4, 4, 4, 4,\n",
      "       4, 4, 4, 4, 4, 4, 4, 4, 4, 4, 4, 4, 4, 4, 4, 4, 5, 5, 5, 5, 5, 5,\n",
      "       5, 5, 5, 5, 5, 5, 5, 5, 5, 5, 5, 5, 5, 5, 5, 5, 5, 5, 5, 5, 5, 5,\n",
      "       5, 5, 5, 5, 5, 5, 5, 5, 5, 5, 5, 5, 5, 5, 5, 5, 5, 5, 5, 5, 5, 5,\n",
      "       5, 5, 5, 5, 5, 5, 5, 5, 5, 5, 5, 5, 5, 5, 5, 5, 5, 5, 5, 5, 5, 5,\n",
      "       5, 5, 5, 5, 5, 5, 5, 5, 5, 5, 5, 5, 5, 5, 5, 5, 5, 5, 5, 5, 5, 5,\n",
      "       5, 5, 5, 5, 5, 5, 6, 6, 6, 6, 6, 6, 6, 6, 6, 6, 6, 6, 6, 6, 6, 6,\n",
      "       6, 6, 6, 6, 6, 6, 6, 6, 6, 6, 6, 6, 6, 6, 6, 6, 6, 6, 6, 6, 6, 6,\n",
      "       6, 6, 6, 6, 6, 6, 6, 6, 6, 6, 6, 6, 6, 6, 6, 6, 6, 6, 6, 6, 6, 6,\n",
      "       6, 6, 6, 6, 6, 6, 6, 6, 6, 6, 6, 6, 6, 6, 6, 6, 6, 6, 6, 6, 6, 6,\n",
      "       6, 6, 6, 6, 6, 6, 6, 6, 6, 6, 6, 6, 6, 6, 6, 6, 6, 6, 7, 7, 7, 7,\n",
      "       7, 7, 7, 7, 7, 7, 7, 7, 7, 7, 7, 7, 7, 7, 7, 7, 7, 7, 7, 7, 7, 7,\n",
      "       7, 7, 7, 7, 7, 7, 7, 7, 7, 7, 7, 7, 7, 7, 7, 7, 7, 7, 7, 7, 7, 7,\n",
      "       7, 7, 7, 7, 7, 7, 7, 7, 7, 7, 7, 7, 7, 7, 7, 7, 7, 7, 7, 7, 7, 7,\n",
      "       7, 7, 7, 7, 7, 7, 7, 7, 7, 7, 7, 7, 7, 7, 7, 7, 7, 7, 7, 7, 7, 7,\n",
      "       7, 7, 7, 7, 7, 7, 7, 7, 8, 8, 8, 8, 8, 8, 8, 8, 8, 8, 8, 8, 8, 8,\n",
      "       8, 8, 8, 8, 8, 8, 8, 8, 8, 8, 8, 8, 8, 8, 8, 8, 8, 8, 8, 8, 8, 8,\n",
      "       8, 8, 8, 8, 8, 8, 8, 8, 8, 8, 8, 8, 8, 8, 8, 8, 8, 8, 8, 8, 8, 8,\n",
      "       8, 8, 8, 8, 8, 8, 8, 8, 8, 8, 8, 8, 8, 8, 8, 8, 8, 8, 8, 8, 8, 8,\n",
      "       8, 8, 8, 8, 8, 8, 8, 8, 8, 8, 8, 8, 8, 8, 8, 8, 8, 8, 8, 8, 9, 9,\n",
      "       9, 9, 9, 9, 9, 9, 9, 9, 9, 9, 9, 9, 9, 9, 9, 9, 9, 9, 9, 9, 9, 9,\n",
      "       9, 9, 9, 9, 9, 9, 9, 9, 9, 9, 9, 9, 9, 9, 9, 9, 9, 9, 9, 9, 9, 9,\n",
      "       9, 9, 9, 9, 9, 9, 9, 9, 9, 9, 9, 9, 9, 9, 9, 9, 9, 9, 9, 9, 9, 9,\n",
      "       9, 9, 9, 9, 9, 9, 9, 9, 9, 9, 9, 9, 9, 9, 9, 9, 9, 9, 9, 9, 9, 9,\n",
      "       9, 9, 9, 9, 9, 9, 9, 9, 9, 9], dtype=int64), metrics={'test_loss': 0.2516321837902069, 'test_f1': 0.9320645000866975, 'test_runtime': 7.6467, 'test_samples_per_second': 130.775, 'test_steps_per_second': 8.239})\n"
     ]
    },
    {
     "data": {
      "image/png": "[encoded data removed]",
      "text/plain": [
       "<Figure size 1000x1000 with 2 Axes>"
      ]
     },
     "metadata": {},
     "output_type": "display_data"
    }
   ],
   "source": [
    "import matplotlib.pyplot as plt\n",
    "from sklearn.metrics import confusion_matrix, ConfusionMatrixDisplay\n",
    "\n",
    "outputs = trainer.predict(subset_test_dataset)\n",
    "print(outputs)\n",
    "\n",
    "y_true = outputs.label_ids\n",
    "y_pred = outputs.predictions.argmax(1)\n",
    "\n",
    "labels = list(classes)\n",
    "matrix = confusion_matrix(y_true, y_pred)\n",
    "display = ConfusionMatrixDisplay(confusion_matrix = matrix, display_labels = labels)\n",
    "_, ax = plt.subplots(figsize = (10, 10))\n",
    "display.plot(xticks_rotation = 45, ax = ax)\n",
    "plt.show()"
   ]
  },
  {
   "cell_type": "code",
   "execution_count": null,
   "metadata": {},
   "outputs": [],
   "source": []
  }
 ],
 "metadata": {
  "kernelspec": {
   "display_name": "testing_torch",
   "language": "python",
   "name": "python3"
  },
  "language_info": {
   "codemirror_mode": {
    "name": "ipython",
    "version": 3
   },
   "file_extension": ".py",
   "mimetype": "text/x-python",
   "name": "python",
   "nbconvert_exporter": "python",
   "pygments_lexer": "ipython3",
   "version": "3.8.19"
  }
 },
 "nbformat": 4,
 "nbformat_minor": 2
}
